{
 "metadata": {
  "language_info": {
   "codemirror_mode": {
    "name": "ipython",
    "version": 3
   },
   "file_extension": ".py",
   "mimetype": "text/x-python",
   "name": "python",
   "nbconvert_exporter": "python",
   "pygments_lexer": "ipython3",
   "version": "3.8.3-final"
  },
  "orig_nbformat": 2,
  "kernelspec": {
   "name": "python_defaultSpec_1599646894829",
   "display_name": "Python 3.8.3 64-bit ('base': conda)"
  }
 },
 "nbformat": 4,
 "nbformat_minor": 2,
 "cells": [
  {
   "cell_type": "markdown",
   "metadata": {
    "tags": []
   },
   "source": [
    "# Tyngdkraft \n",
    "- Fråga användare om sin vikt \n",
    "- Beräkna tyngdkraften \n",
    "\n",
    "\n"
   ]
  },
  {
   "cell_type": "code",
   "execution_count": 17,
   "metadata": {
    "tags": []
   },
   "outputs": [
    {
     "output_type": "stream",
     "name": "stdout",
     "text": "Din tyngdkraft är 5.6956N\n"
    }
   ],
   "source": [
    "# skapar en variabel g och tilldelar det värdet 9.82\n",
    "g = 9.82\n",
    "\n",
    "# input ger oss en sträng, float typomvandlar den till flyttal \n",
    "m = float (input(\"hur mycket väger du?\"))\n",
    "\n",
    "F = m*g # 589.2 \n",
    "\n",
    "print (f\"Din tyngdkraft är {F}N\")\n"
   ]
  },
  {
   "cell_type": "markdown",
   "metadata": {},
   "source": [
    "# Procent \n",
    "\n",
    "- Fråga användare om ett deciamltal \n",
    "- omvandlar talet till procent "
   ]
  },
  {
   "cell_type": "code",
   "execution_count": 24,
   "metadata": {
    "tags": []
   },
   "outputs": [
    {
     "output_type": "stream",
     "name": "stdout",
     "text": "0.58 = 58%\n0.58 = 58 %\n"
    }
   ],
   "source": [
    "decimaltal = float(input(\"Ange ett decimaltal: \"))\n",
    "\n",
    "procent = decimaltal*100 \n",
    "\n",
    "print(f\"{decimaltal} = {procent:.0f}%\")\n",
    "print(decimaltal,\"=\",round(procent),\"%\")"
   ]
  },
  {
   "cell_type": "markdown",
   "metadata": {},
   "source": [
    "# K $\\rightarrow$ °C \n",
    "- Fråga användaren att ange temperaturen i Kelvin och omvandla till °C"
   ]
  },
  {
   "cell_type": "code",
   "execution_count": 33,
   "metadata": {
    "tags": []
   },
   "outputs": [
    {
     "output_type": "stream",
     "name": "stdout",
     "text": "150.0 = -123.150 °C\n"
    }
   ],
   "source": [
    "kelvin = float(input(\"Skriv en temperatur i kelvin\"))\n",
    "\n",
    "Celcius = kelvin-273.15\n",
    "\n",
    "print(f\"{kelvin} = {Celcius: .3f} °C\")"
   ]
  },
  {
   "cell_type": "markdown",
   "metadata": {},
   "source": [
    "# °C $\\rightarrow$ K \n",
    "- Fråga användaren att ange temperaturen i Kelvin och omvandla till °C\n"
   ]
  },
  {
   "cell_type": "code",
   "execution_count": 34,
   "metadata": {
    "tags": []
   },
   "outputs": [
    {
     "output_type": "stream",
     "name": "stdout",
     "text": "293.15 =  20.000000°C\n"
    }
   ],
   "source": [
    "Celcius = float(input(\"Ange temperaturen i kelvin\"))\n",
    "kelvin = Celcius +273.15 \n",
    "\n",
    "print(f\"{kelvin} = {Celcius: 2f}°C\")\n"
   ]
  },
  {
   "cell_type": "markdown",
   "metadata": {},
   "source": [
    "# Västtrafik \n",
    "- Fråga användaren hur många gånger hen åker med västtrafik. Beräkna totala kostnaden om användaren betalar med engångsbiljetter.\n"
   ]
  },
  {
   "cell_type": "code",
   "execution_count": 6,
   "metadata": {
    "tags": []
   },
   "outputs": [
    {
     "output_type": "stream",
     "name": "stdout",
     "text": "Kostnaden blir 240.0 kr\nOm du köper månadskort, kostar dig 96.875 kr för varje gång du åker.\n"
    }
   ],
   "source": [
    "Engångsbiljett = 30 \n",
    "Månadskort = 775 \n",
    "\n",
    "Antal = float(input(\"Hur många gånger åker du med västtrafik?\"))\n",
    "\n",
    "Kostnad = Antal*30 \n",
    "\n",
    "Kostnad2 = 775/Antal\n",
    "\n",
    "print(\"Kostnaden blir\",Antal*30,\"kr\")\n",
    "print(\"Om du köper månadskort, kostar dig\",Kostnad2,\"kr för varje gång du åker.\")\n",
    "\n",
    "\n"
   ]
  },
  {
   "cell_type": "code",
   "execution_count": null,
   "metadata": {},
   "outputs": [],
   "source": []
  }
 ]
}