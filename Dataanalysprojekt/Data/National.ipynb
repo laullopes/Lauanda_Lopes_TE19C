{
 "metadata": {
  "language_info": {
   "codemirror_mode": {
    "name": "ipython",
    "version": 3
   },
   "file_extension": ".py",
   "mimetype": "text/x-python",
   "name": "python",
   "nbconvert_exporter": "python",
   "pygments_lexer": "ipython3",
   "version": "3.8.3"
  },
  "orig_nbformat": 2,
  "kernelspec": {
   "name": "python383jvsc74a57bd07c563755288f0309047936d184fb15b1d33aefeeb29fedc820ad4d8760526e85",
   "display_name": "Python 3.8.3 64-bit (conda)"
  }
 },
 "nbformat": 4,
 "nbformat_minor": 2,
 "cells": [
  {
   "cell_type": "code",
   "execution_count": 1,
   "metadata": {},
   "outputs": [
    {
     "output_type": "execute_result",
     "data": {
      "text/plain": [
       "  Age_Group  Total_Cases  Total_ICU_Admissions  Total_Deaths\n",
       "0       0-9         9127                    22             7\n",
       "1     10-19        62180                    35             3\n",
       "2     20-29       107936                   142            15\n",
       "3     30-39       107508                   194            33\n",
       "4     40-49       109903                   483            81\n",
       "5     50-59       101188                  1084           261\n",
       "6     60-69        53511                  1438           721\n",
       "7     70-79        26476                  1259          2605\n",
       "8     80-89        20538                   329          5239\n",
       "9       90+         9980                     7          3463"
      ],
      "text/html": "<div>\n<style scoped>\n    .dataframe tbody tr th:only-of-type {\n        vertical-align: middle;\n    }\n\n    .dataframe tbody tr th {\n        vertical-align: top;\n    }\n\n    .dataframe thead th {\n        text-align: right;\n    }\n</style>\n<table border=\"1\" class=\"dataframe\">\n  <thead>\n    <tr style=\"text-align: right;\">\n      <th></th>\n      <th>Age_Group</th>\n      <th>Total_Cases</th>\n      <th>Total_ICU_Admissions</th>\n      <th>Total_Deaths</th>\n    </tr>\n  </thead>\n  <tbody>\n    <tr>\n      <th>0</th>\n      <td>0-9</td>\n      <td>9127</td>\n      <td>22</td>\n      <td>7</td>\n    </tr>\n    <tr>\n      <th>1</th>\n      <td>10-19</td>\n      <td>62180</td>\n      <td>35</td>\n      <td>3</td>\n    </tr>\n    <tr>\n      <th>2</th>\n      <td>20-29</td>\n      <td>107936</td>\n      <td>142</td>\n      <td>15</td>\n    </tr>\n    <tr>\n      <th>3</th>\n      <td>30-39</td>\n      <td>107508</td>\n      <td>194</td>\n      <td>33</td>\n    </tr>\n    <tr>\n      <th>4</th>\n      <td>40-49</td>\n      <td>109903</td>\n      <td>483</td>\n      <td>81</td>\n    </tr>\n    <tr>\n      <th>5</th>\n      <td>50-59</td>\n      <td>101188</td>\n      <td>1084</td>\n      <td>261</td>\n    </tr>\n    <tr>\n      <th>6</th>\n      <td>60-69</td>\n      <td>53511</td>\n      <td>1438</td>\n      <td>721</td>\n    </tr>\n    <tr>\n      <th>7</th>\n      <td>70-79</td>\n      <td>26476</td>\n      <td>1259</td>\n      <td>2605</td>\n    </tr>\n    <tr>\n      <th>8</th>\n      <td>80-89</td>\n      <td>20538</td>\n      <td>329</td>\n      <td>5239</td>\n    </tr>\n    <tr>\n      <th>9</th>\n      <td>90+</td>\n      <td>9980</td>\n      <td>7</td>\n      <td>3463</td>\n    </tr>\n  </tbody>\n</table>\n</div>"
     },
     "metadata": {},
     "execution_count": 1
    }
   ],
   "source": [
    "import pandas as pd \n",
    "\n",
    "df = pd.read_csv(\"National_Total_Deaths_by_Age_Group.csv\")\n",
    "\n",
    "df"
   ]
  },
  {
   "cell_type": "code",
   "execution_count": null,
   "metadata": {},
   "outputs": [],
   "source": []
  }
 ]
}