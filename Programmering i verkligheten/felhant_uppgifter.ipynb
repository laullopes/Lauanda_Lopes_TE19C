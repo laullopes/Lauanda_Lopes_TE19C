{
 "metadata": {
  "language_info": {
   "codemirror_mode": {
    "name": "ipython",
    "version": 3
   },
   "file_extension": ".py",
   "mimetype": "text/x-python",
   "name": "python",
   "nbconvert_exporter": "python",
   "pygments_lexer": "ipython3",
   "version": "3.8.3-final"
  },
  "orig_nbformat": 2,
  "kernelspec": {
   "name": "python3",
   "display_name": "Python 3",
   "language": "python"
  }
 },
 "nbformat": 4,
 "nbformat_minor": 2,
 "cells": [
  {
   "cell_type": "code",
   "execution_count": 1,
   "metadata": {},
   "outputs": [
    {
     "output_type": "stream",
     "name": "stdout",
     "text": [
      "0.7071067811865476\n"
     ]
    }
   ],
   "source": [
    "# Uppgift 1 \n",
    "\n",
    "import numpy as np \n",
    "\n",
    "def distance(p1, p2):\n",
    "    return np.sqrt(p1**2 + p2**2) \n",
    "\n",
    "print(distance(0.5,0.5))"
   ]
  },
  {
   "cell_type": "code",
   "execution_count": 2,
   "metadata": {},
   "outputs": [
    {
     "output_type": "stream",
     "name": "stdout",
     "text": [
      "100 är inte fyrsiffrigt\n231 är inte fyrsiffrigt\n10000 är inte fyrsiffrigt\n10001 är inte fyrsiffrigt\n-1000 är fyrsiffrigt\n102313 är inte fyrsiffrigt\n6788 är fyrsiffrigt\n"
     ]
    }
   ],
   "source": [
    "# Uppgift 2 \n",
    "\n",
    "def ar_fyrsiffrigt(tal):\n",
    "    if tal//1000 < 10 and tal//1000 > 1:\n",
    "        return True\n",
    "    elif tal//1000 > -10 and tal//1000 < 0:\n",
    "        return True \n",
    "    else:\n",
    "        return False \n",
    "\n",
    "# testprogram \n",
    "testtal = [100, 231, 10000, 10001, -1000, 102313, 6788]\n",
    "\n",
    "for t in testtal:\n",
    "    if ar_fyrsiffrigt(t):\n",
    "        print(f\"{t} är fyrsiffrigt\")\n",
    "    else:\n",
    "        print(f\"{t} är inte fyrsiffrigt\")\n"
   ]
  },
  {
   "cell_type": "code",
   "execution_count": 2,
   "metadata": {},
   "outputs": [
    {
     "output_type": "stream",
     "name": "stdout",
     "text": [
      "\nDet är inte värt med månadskort.\n"
     ]
    }
   ],
   "source": [
    "# Uppgift 3 \n",
    "\n",
    "# här kollade på västrafikens hemsidan och kollade hur mycket det engetligen kostar att åka spårvangn. \n",
    "månadsbiljett = 795\n",
    "engångsbiljett = 34\n",
    "\n",
    "try:\n",
    "    antalgånger = int(input(\"Hur många gånger vill du åka spårvagn per månad?\"))\n",
    "    assert antalgånger > 0 and antalgånger < 60, \"Antal gånger ska vara mellan 0 och 60\" # Jag valde 60 eftersom en månad bruka inehålla 30 dagar och användaren kanske åker spårvagn flera gånger om dagen. \n",
    "    kostnad1 = engångsbiljett * antalgånger\n",
    "    kostnad2 = månadsbiljett/antalgånger\n",
    "\n",
    "except AssertionError as msg:\n",
    "    print(msg)\n",
    "except:\n",
    "    print(\"Ange ett tal och inte en sträng.\")\n",
    "print( )\n",
    "\n",
    "if kostnad1 > kostnad2:\n",
    "    print(\"Du tjärnar på att köpa månadskort.\")\n",
    "else:\n",
    "    print(\"Det är inte värt med månadskort.\")\n",
    "\n"
   ]
  },
  {
   "cell_type": "code",
   "execution_count": null,
   "metadata": {},
   "outputs": [],
   "source": [
    "# Uppgift 4 "
   ]
  }
 ]
}