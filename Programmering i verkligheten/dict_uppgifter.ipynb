{
 "metadata": {
  "language_info": {
   "codemirror_mode": {
    "name": "ipython",
    "version": 3
   },
   "file_extension": ".py",
   "mimetype": "text/x-python",
   "name": "python",
   "nbconvert_exporter": "python",
   "pygments_lexer": "ipython3",
   "version": "3.8.3-final"
  },
  "orig_nbformat": 2,
  "kernelspec": {
   "name": "python3",
   "display_name": "Python 3.8.3 64-bit (conda)",
   "metadata": {
    "interpreter": {
     "hash": "7c563755288f0309047936d184fb15b1d33aefeeb29fedc820ad4d8760526e85"
    }
   }
  }
 },
 "nbformat": 4,
 "nbformat_minor": 2,
 "cells": [
  {
   "cell_type": "code",
   "execution_count": 12,
   "metadata": {},
   "outputs": [
    {
     "output_type": "stream",
     "name": "stdout",
     "text": [
      " Antalet poäng jag läser just nu är 850\n"
     ]
    }
   ],
   "source": [
    "# Uppgift 1 \n",
    "\n",
    "kurser = {\n",
    "    \"Idrott\": 100,\n",
    "    \"SVA\": 100,\n",
    "    \"Engelska 6\": 100,\n",
    "    \"Fysik 1a\": 150,\n",
    "    \"DAODAC\": 100,\n",
    "    \"Programmering\": 100,\n",
    "    \"Webbutveckling\": 100,\n",
    "    \"Matte 4\":100,\n",
    "}\n",
    "\n",
    "poang = 0 \n",
    "\n",
    "for key, value in kurser.items():\n",
    "    poang += value \n",
    "\n",
    "print(f\" Antalet poäng jag läser just nu är {poang}\")\n"
   ]
  },
  {
   "cell_type": "code",
   "execution_count": 57,
   "metadata": {},
   "outputs": [
    {
     "output_type": "stream",
     "name": "stdout",
     "text": [
      "{1: 16667, 2: 16729, 3: 16650, 4: 16658, 5: 16726, 6: 16570}\n"
     ]
    }
   ],
   "source": [
    "import random as rnd \n",
    "\n",
    "kast = {}\n",
    "\n",
    "for i in range(1,7):\n",
    "    kast[i] = 0 \n",
    "\n",
    "for x in range(100000):\n",
    "    x = rnd.randint(1,6)\n",
    "    if x == 1:\n",
    "        kast[1] += 1\n",
    "    elif x == 2:\n",
    "        kast[2] += 1\n",
    "    elif x == 3:\n",
    "        kast[3] += 1\n",
    "    elif x == 4:\n",
    "        kast[4] += 1\n",
    "    elif x == 5:\n",
    "        kast[5] += 1\n",
    "    elif x == 6:\n",
    "        kast[6] += 1\n",
    "\n",
    "print(kast)"
   ]
  },
  {
   "cell_type": "code",
   "execution_count": null,
   "metadata": {},
   "outputs": [],
   "source": [
    "# Uppgift 3 \n",
    "\n",
    "\n",
    "with open(\"pokemonlista.txt\", \"r\") as f:\n",
    "    pokedex = {\"pokemon\": \"typ\": \"index\":}\n",
    "\n"
   ]
  }
 ]
}