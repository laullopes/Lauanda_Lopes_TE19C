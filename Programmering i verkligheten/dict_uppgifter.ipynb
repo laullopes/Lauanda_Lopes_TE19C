{
 "metadata": {
  "language_info": {
   "codemirror_mode": {
    "name": "ipython",
    "version": 3
   },
   "file_extension": ".py",
   "mimetype": "text/x-python",
   "name": "python",
   "nbconvert_exporter": "python",
   "pygments_lexer": "ipython3",
   "version": "3.8.3-final"
  },
  "orig_nbformat": 2,
  "kernelspec": {
   "name": "python3",
   "display_name": "Python 3.8.3 64-bit (conda)",
   "metadata": {
    "interpreter": {
     "hash": "7c563755288f0309047936d184fb15b1d33aefeeb29fedc820ad4d8760526e85"
    }
   }
  }
 },
 "nbformat": 4,
 "nbformat_minor": 2,
 "cells": [
  {
   "cell_type": "code",
   "execution_count": 35,
   "metadata": {},
   "outputs": [
    {
     "output_type": "stream",
     "name": "stdout",
     "text": [
      "100\n100\n100\n150\n100\n100\n100\n100\n"
     ]
    }
   ],
   "source": [
    "kurser = {\n",
    "    \"Idrott\": 100,\n",
    "    \"SVA\": 100,\n",
    "    \"Engelska 6\": 100,\n",
    "    \"Fysik 1a\": 150,\n",
    "    \"DAODAC\": 100,\n",
    "    \"Programmering\": 100,\n",
    "    \"Webbutveckling\": 100,\n",
    "    \"Matte 4\":100 ,\n",
    "}\n",
    "\n",
    "for key, value in kurser.items():\n",
    "    print(value)\n"
   ]
  },
  {
   "cell_type": "code",
   "execution_count": null,
   "metadata": {},
   "outputs": [],
   "source": []
  }
 ]
}