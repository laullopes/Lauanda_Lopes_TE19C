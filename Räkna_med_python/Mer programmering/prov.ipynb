{
 "metadata": {
  "language_info": {
   "codemirror_mode": {
    "name": "ipython",
    "version": 3
   },
   "file_extension": ".py",
   "mimetype": "text/x-python",
   "name": "python",
   "nbconvert_exporter": "python",
   "pygments_lexer": "ipython3",
   "version": "3.8.3-final"
  },
  "orig_nbformat": 2,
  "kernelspec": {
   "name": "python3",
   "display_name": "Python 3",
   "language": "python"
  }
 },
 "nbformat": 4,
 "nbformat_minor": 2,
 "cells": [
  {
   "source": [
    "# Uppgift 3 "
   ],
   "cell_type": "markdown",
   "metadata": {}
  },
  {
   "cell_type": "code",
   "execution_count": 5,
   "metadata": {},
   "outputs": [
    {
     "output_type": "stream",
     "name": "stdout",
     "text": [
      "3.0\n"
     ]
    }
   ],
   "source": [
    "def medelvärde(a,b,c):\n",
    "    medel = (a+b+c)/3\n",
    "    return medel\n",
    "\n",
    "print(medelvärde(1,3,5))"
   ]
  },
  {
   "source": [
    "# Uppgift 4 "
   ],
   "cell_type": "markdown",
   "metadata": {}
  },
  {
   "cell_type": "code",
   "execution_count": 18,
   "metadata": {},
   "outputs": [
    {
     "output_type": "stream",
     "name": "stdout",
     "text": [
      "33.510321638291124\n"
     ]
    }
   ],
   "source": [
    "import math \n",
    "\n",
    "r = int(input(\"Mata in en radie\"))\n",
    "def f(r):\n",
    "    volym = 4*(math.pi)* r**3/3\n",
    "    return volym\n",
    "\n",
    "print(f(r)) \n",
    "\n"
   ]
  },
  {
   "source": [
    "# Uppgift 5 \n"
   ],
   "cell_type": "markdown",
   "metadata": {}
  },
  {
   "cell_type": "code",
   "execution_count": 24,
   "metadata": {},
   "outputs": [
    {
     "output_type": "stream",
     "name": "stdout",
     "text": [
      "Antal ord i citatet: 3\n"
     ]
    }
   ],
   "source": [
    "\n",
    "def räkna_ord(text):\n",
    "    ord = text.split()\n",
    "    antal_ord = len(ord)\n",
    "    return antal_ord\n",
    "\n",
    "mening = input(\"Mata in en mening\")\n",
    "\n",
    "print(f\"Antal ord i citatet: {räkna_ord(mening)}\")"
   ]
  },
  {
   "source": [
    "# Uppgift 6 \n"
   ],
   "cell_type": "markdown",
   "metadata": {}
  },
  {
   "cell_type": "code",
   "execution_count": 7,
   "metadata": {},
   "outputs": [
    {
     "output_type": "stream",
     "name": "stdout",
     "text": [
      "Andelen av femmor blir 0.153\n"
     ]
    }
   ],
   "source": [
    "import random as rnd \n",
    "x = 0 \n",
    "for i in range(1000):\n",
    "     y = rnd.randint(1,6)\n",
    "     if y == 5:\n",
    "         x += 1 \n",
    "\n",
    "print(f\"Andelen av femmor blir {x/1000}\")\n",
    "\n",
    "\n",
    "\n"
   ]
  },
  {
   "cell_type": "code",
   "execution_count": 26,
   "metadata": {},
   "outputs": [],
   "source": [
    "def växla(summa):\n",
    "    kontanter = [1000,500,200,100,50,20,10,5,1]\n",
    "    sedlar = ['tusenlappar', 'tvåhundralapp', 'hundralappar', 'femtiolapp','femkrona','enkronor']\n",
    "\n",
    "    for i in range(len(kontanter)):\n",
    "        antal = summa // kontanter[i]\n",
    "        summa %= kontanter[i]\n",
    "        print(f\"{antal}{sedlar[i]}\", end = ',')\n",
    "\n",
    "\n",
    "\n",
    "\n",
    "\n",
    "\n"
   ]
  },
  {
   "cell_type": "code",
   "execution_count": null,
   "metadata": {},
   "outputs": [],
   "source": []
  }
 ]
}