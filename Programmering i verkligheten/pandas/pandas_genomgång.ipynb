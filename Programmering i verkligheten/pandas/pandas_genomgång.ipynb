{
 "metadata": {
  "language_info": {
   "codemirror_mode": {
    "name": "ipython",
    "version": 3
   },
   "file_extension": ".py",
   "mimetype": "text/x-python",
   "name": "python",
   "nbconvert_exporter": "python",
   "pygments_lexer": "ipython3",
   "version": "3.8.3"
  },
  "orig_nbformat": 2,
  "kernelspec": {
   "name": "python383jvsc74a57bd07c563755288f0309047936d184fb15b1d33aefeeb29fedc820ad4d8760526e85",
   "display_name": "Python 3.8.3 64-bit (conda)"
  }
 },
 "nbformat": 4,
 "nbformat_minor": 2,
 "cells": [
  {
   "source": [
    "# Pandas grunder "
   ],
   "cell_type": "markdown",
   "metadata": {}
  },
  {
   "cell_type": "code",
   "execution_count": 2,
   "metadata": {},
   "outputs": [
    {
     "output_type": "stream",
     "name": "stdout",
     "text": [
      "   Elev  Uppg 1  Uppg 2  Uppg 3  Uppg 4  Uppg 5\n0   Ada     3.0     NaN     2.0     3.0     0.0\n1  Beda     2.0     3.0     1.0     3.0     3.0\n\n    Elev  Uppg 1  Uppg 2  Uppg 3  Uppg 4  Uppg 5\n2   Ceda     3.0     1.0     0.0     1.0     0.0\n3   Deda     0.0     2.0     0.0     3.0     3.0\n4    Eda     2.0     1.0     2.0     1.0     3.0\n5   Feda     NaN     NaN     NaN     NaN     NaN\n6   Geda     3.0     1.0     1.0     2.0     3.0\n7   Heda     0.0     1.0     0.0     1.0     3.0\n8    Ida     2.0     1.0     2.0     2.0     3.0\n9   Keda     2.0     2.0     1.0     NaN     2.0\n10  Leda     3.0     1.0     2.0     1.0     3.0\n11  Meda     0.0     2.0     0.0     1.0     1.0\n"
     ]
    }
   ],
   "source": [
    "import pandas as pd \n",
    "\n",
    "# df: står för dataframe \n",
    "df = pd.read_csv(\"Matteprov (1).csv\")\n",
    "\n",
    "print(df.head(2)) # man kan välja hur mycket man vill se \n",
    "print()\n",
    "print(df.tail(10))\n",
    "\n"
   ]
  },
  {
   "cell_type": "code",
   "execution_count": 4,
   "metadata": {},
   "outputs": [
    {
     "output_type": "execute_result",
     "data": {
      "text/plain": [
       "    Elev  Uppg 1  Uppg 2  Uppg 3  Uppg 4  Uppg 5  Total      Betyg\n",
       "0    Ada     3.0     0.0     2.0     3.0     0.0    8.0    Godkänt\n",
       "1   Beda     2.0     3.0     1.0     3.0     3.0   12.0    Godkänt\n",
       "2   Ceda     3.0     1.0     0.0     1.0     0.0    5.0  Underkänt\n",
       "3   Deda     0.0     2.0     0.0     3.0     3.0    8.0    Godkänt\n",
       "4    Eda     2.0     1.0     2.0     1.0     3.0    9.0    Godkänt\n",
       "5   Feda     0.0     0.0     0.0     0.0     0.0    0.0  Underkänt\n",
       "6   Geda     3.0     1.0     1.0     2.0     3.0   10.0    Godkänt\n",
       "7   Heda     0.0     1.0     0.0     1.0     3.0    5.0  Underkänt\n",
       "8    Ida     2.0     1.0     2.0     2.0     3.0   10.0    Godkänt\n",
       "9   Keda     2.0     2.0     1.0     0.0     2.0    7.0  Underkänt\n",
       "10  Leda     3.0     1.0     2.0     1.0     3.0   10.0    Godkänt\n",
       "11  Meda     0.0     2.0     0.0     1.0     1.0    4.0  Underkänt"
      ],
      "text/html": "<div>\n<style scoped>\n    .dataframe tbody tr th:only-of-type {\n        vertical-align: middle;\n    }\n\n    .dataframe tbody tr th {\n        vertical-align: top;\n    }\n\n    .dataframe thead th {\n        text-align: right;\n    }\n</style>\n<table border=\"1\" class=\"dataframe\">\n  <thead>\n    <tr style=\"text-align: right;\">\n      <th></th>\n      <th>Elev</th>\n      <th>Uppg 1</th>\n      <th>Uppg 2</th>\n      <th>Uppg 3</th>\n      <th>Uppg 4</th>\n      <th>Uppg 5</th>\n      <th>Total</th>\n      <th>Betyg</th>\n    </tr>\n  </thead>\n  <tbody>\n    <tr>\n      <th>0</th>\n      <td>Ada</td>\n      <td>3.0</td>\n      <td>0.0</td>\n      <td>2.0</td>\n      <td>3.0</td>\n      <td>0.0</td>\n      <td>8.0</td>\n      <td>Godkänt</td>\n    </tr>\n    <tr>\n      <th>1</th>\n      <td>Beda</td>\n      <td>2.0</td>\n      <td>3.0</td>\n      <td>1.0</td>\n      <td>3.0</td>\n      <td>3.0</td>\n      <td>12.0</td>\n      <td>Godkänt</td>\n    </tr>\n    <tr>\n      <th>2</th>\n      <td>Ceda</td>\n      <td>3.0</td>\n      <td>1.0</td>\n      <td>0.0</td>\n      <td>1.0</td>\n      <td>0.0</td>\n      <td>5.0</td>\n      <td>Underkänt</td>\n    </tr>\n    <tr>\n      <th>3</th>\n      <td>Deda</td>\n      <td>0.0</td>\n      <td>2.0</td>\n      <td>0.0</td>\n      <td>3.0</td>\n      <td>3.0</td>\n      <td>8.0</td>\n      <td>Godkänt</td>\n    </tr>\n    <tr>\n      <th>4</th>\n      <td>Eda</td>\n      <td>2.0</td>\n      <td>1.0</td>\n      <td>2.0</td>\n      <td>1.0</td>\n      <td>3.0</td>\n      <td>9.0</td>\n      <td>Godkänt</td>\n    </tr>\n    <tr>\n      <th>5</th>\n      <td>Feda</td>\n      <td>0.0</td>\n      <td>0.0</td>\n      <td>0.0</td>\n      <td>0.0</td>\n      <td>0.0</td>\n      <td>0.0</td>\n      <td>Underkänt</td>\n    </tr>\n    <tr>\n      <th>6</th>\n      <td>Geda</td>\n      <td>3.0</td>\n      <td>1.0</td>\n      <td>1.0</td>\n      <td>2.0</td>\n      <td>3.0</td>\n      <td>10.0</td>\n      <td>Godkänt</td>\n    </tr>\n    <tr>\n      <th>7</th>\n      <td>Heda</td>\n      <td>0.0</td>\n      <td>1.0</td>\n      <td>0.0</td>\n      <td>1.0</td>\n      <td>3.0</td>\n      <td>5.0</td>\n      <td>Underkänt</td>\n    </tr>\n    <tr>\n      <th>8</th>\n      <td>Ida</td>\n      <td>2.0</td>\n      <td>1.0</td>\n      <td>2.0</td>\n      <td>2.0</td>\n      <td>3.0</td>\n      <td>10.0</td>\n      <td>Godkänt</td>\n    </tr>\n    <tr>\n      <th>9</th>\n      <td>Keda</td>\n      <td>2.0</td>\n      <td>2.0</td>\n      <td>1.0</td>\n      <td>0.0</td>\n      <td>2.0</td>\n      <td>7.0</td>\n      <td>Underkänt</td>\n    </tr>\n    <tr>\n      <th>10</th>\n      <td>Leda</td>\n      <td>3.0</td>\n      <td>1.0</td>\n      <td>2.0</td>\n      <td>1.0</td>\n      <td>3.0</td>\n      <td>10.0</td>\n      <td>Godkänt</td>\n    </tr>\n    <tr>\n      <th>11</th>\n      <td>Meda</td>\n      <td>0.0</td>\n      <td>2.0</td>\n      <td>0.0</td>\n      <td>1.0</td>\n      <td>1.0</td>\n      <td>4.0</td>\n      <td>Underkänt</td>\n    </tr>\n  </tbody>\n</table>\n</div>"
     },
     "metadata": {},
     "execution_count": 4
    }
   ],
   "source": [
    "import pandas as pd \n",
    "import numpy as np \n",
    "\n",
    "df = pd.read_csv(\"Matteprov (1).csv\")\n",
    "\n",
    "# print(df.dropna()) # tog bort Ada och Feda eftersom de innhehåler Nan (slänger raderna)\n",
    "\n",
    "df = df.fillna(0) # filler Nan med vad som står inut imparamentern\n",
    "df [\"Total\"] = df.sum(axis=1) # plusar nummer radvis \n",
    "df[\"Betyg\"] = np.where(df[\"Total\"] > 7, \"Godkänt\", \"Underkänt\")\n",
    "df"
   ]
  },
  {
   "source": [
    "## Selected data\n",
    "- rader \n",
    "- kolumner"
   ],
   "cell_type": "markdown",
   "metadata": {}
  },
  {
   "cell_type": "code",
   "execution_count": 6,
   "metadata": {},
   "outputs": [
    {
     "output_type": "execute_result",
     "data": {
      "text/plain": [
       "3"
      ]
     },
     "metadata": {},
     "execution_count": 6
    }
   ],
   "source": [
    "# plocka ut kolumner med kolumnamn \n",
    "#df[\"Total\"]\n",
    "df[\"Betyg\"]."
   ]
  },
  {
   "source": [
    "## Conditional Filtering\n",
    "- Villkorlig sökning ( filtering) "
   ],
   "cell_type": "markdown",
   "metadata": {}
  },
  {
   "cell_type": "code",
   "execution_count": 13,
   "metadata": {},
   "outputs": [
    {
     "output_type": "stream",
     "name": "stdout",
     "text": [
      "    Elev  Uppg 1  Uppg 2  Uppg 3  Uppg 4  Uppg 5  Total    Betyg\n0    Ada     3.0     0.0     2.0     3.0     0.0    8.0  Godkänt\n1   Beda     2.0     3.0     1.0     3.0     3.0   12.0  Godkänt\n3   Deda     0.0     2.0     0.0     3.0     3.0    8.0  Godkänt\n4    Eda     2.0     1.0     2.0     1.0     3.0    9.0  Godkänt\n6   Geda     3.0     1.0     1.0     2.0     3.0   10.0  Godkänt\n8    Ida     2.0     1.0     2.0     2.0     3.0   10.0  Godkänt\n10  Leda     3.0     1.0     2.0     1.0     3.0   10.0  Godkänt\n"
     ]
    }
   ],
   "source": [
    "df_G = df[df[\"Betyg\"] == \"Godkänt\"]  #df[df[]] functionel programmering, fick ut en serie på santal godkända \n",
    "df_U = df[df[\"Betyg\"] == \"Underkänt\"]\n",
    "\n",
    "print(df_G)"
   ]
  },
  {
   "source": [
    "## Datavisualisering \n"
   ],
   "cell_type": "markdown",
   "metadata": {}
  },
  {
   "cell_type": "code",
   "execution_count": 20,
   "metadata": {},
   "outputs": [
    {
     "output_type": "stream",
     "name": "stdout",
     "text": [
      "[7, 5]\n['Godkänt' 'Underkänt']\n"
     ]
    },
    {
     "output_type": "execute_result",
     "data": {
      "text/plain": [
       "'\\nplt.bar(labels, betygsLista, width=.4, color = [\"pink\",\"blue\"])\\nplt.title(\"Antal godkända/underkända i klassen\")\\nplt.show()\\n'"
      ]
     },
     "metadata": {},
     "execution_count": 20
    }
   ],
   "source": [
    "import matplotlib.pyplot as plt \n",
    "\n",
    "betygsLista = df[\"Betyg\"].value_counts().tolist()\n",
    "labels = df[\"Betyg\"].unique() \n",
    "\n",
    "print(betygsLista)\n",
    "print(labels)\n",
    "\n",
    "'''\n",
    "plt.bar(labels, betygsLista, width=.4, color = [\"pink\",\"blue\"])\n",
    "plt.title(\"Antal godkända/underkända i klassen\")\n",
    "plt.show()\n",
    "'''"
   ]
  },
  {
   "source": [
    "# Några typer av diagram \n",
    "- linjediagram - vanliga plt.plot(x,y)\n",
    "- cirkeldiagram - plt.pie()\n",
    "- stapeldiagram - plt.bar()¨\n",
    "- horisontell stapeldiagram - plt.barh()\n"
   ],
   "cell_type": "markdown",
   "metadata": {}
  },
  {
   "source": [
    "import matplotlib.pyplot as plt \n",
    "import numpy as np \n",
    "\n",
    "# cirkeldiagram \n",
    "\n",
    "kön = [8, 26]\n",
    "\n",
    "plt.pie(kön)\n",
    "plt.show()"
   ],
   "cell_type": "code",
   "metadata": {},
   "execution_count": 4,
   "outputs": [
    {
     "output_type": "display_data",
     "data": {
      "text/plain": "<Figure size 432x288 with 1 Axes>",
      "image/svg+xml": "<?xml version=\"1.0\" encoding=\"utf-8\" standalone=\"no\"?>\r\n<!DOCTYPE svg PUBLIC \"-//W3C//DTD SVG 1.1//EN\"\r\n  \"http://www.w3.org/Graphics/SVG/1.1/DTD/svg11.dtd\">\r\n<!-- Created with matplotlib (https://matplotlib.org/) -->\r\n<svg height=\"231.84pt\" version=\"1.1\" viewBox=\"0 0 231.84 231.84\" width=\"231.84pt\" xmlns=\"http://www.w3.org/2000/svg\" xmlns:xlink=\"http://www.w3.org/1999/xlink\">\r\n <defs>\r\n  <style type=\"text/css\">\r\n*{stroke-linecap:butt;stroke-linejoin:round;}\r\n  </style>\r\n </defs>\r\n <g id=\"figure_1\">\r\n  <g id=\"patch_1\">\r\n   <path d=\"M 0 231.84 \r\nL 231.84 231.84 \r\nL 231.84 0 \r\nL 0 0 \r\nz\r\n\" style=\"fill:none;\"/>\r\n  </g>\r\n  <g id=\"axes_1\">\r\n   <g id=\"patch_2\">\r\n    <path d=\"M 202.896 115.92 \r\nC 202.896 94.248324 194.796153 73.340209 180.196039 57.324648 \r\nC 165.595926 41.309086 145.524361 31.314634 123.945132 29.315024 \r\nL 115.92 115.92 \r\nL 202.896 115.92 \r\nz\r\n\" style=\"fill:#1f77b4;\"/>\r\n   </g>\r\n   <g id=\"patch_3\">\r\n    <path d=\"M 123.945132 29.315024 \r\nC 115.25974 28.510204 106.502484 29.016498 97.967709 30.816887 \r\nC 89.432934 32.617277 81.217348 35.691363 73.597088 39.93582 \r\nC 65.976828 44.180277 59.038238 49.547012 53.014537 55.855641 \r\nC 46.990835 62.16427 41.950274 69.34331 38.062277 77.151463 \r\nC 34.174279 84.959616 31.482897 93.308408 30.078595 101.917224 \r\nC 28.674292 110.52604 28.57298 119.297335 29.778063 127.93629 \r\nC 30.983146 136.575246 33.48097 144.983976 37.187579 152.87985 \r\nC 40.894189 160.775724 45.767584 168.069275 51.643963 174.515355 \r\nC 57.520342 180.961436 64.333121 186.487005 71.85331 190.906341 \r\nC 79.373499 195.325678 87.51589 198.588705 96.006802 200.585749 \r\nC 104.497715 202.582793 113.24094 203.291225 121.942605 202.687233 \r\nC 130.64427 202.083242 139.205777 200.17367 147.339361 197.022702 \r\nC 155.472945 193.871735 163.086444 189.515074 169.923958 184.099154 \r\nC 176.761472 178.683235 182.745525 172.269424 187.674984 165.073299 \r\nC 192.604444 157.877174 196.423454 149.980274 199.003652 141.648026 \r\nC 201.58385 133.315778 202.896001 124.642593 202.896 115.919992 \r\nL 115.92 115.92 \r\nL 123.945132 29.315024 \r\nz\r\n\" style=\"fill:#ff7f0e;\"/>\r\n   </g>\r\n   <g id=\"matplotlib.axis_1\"/>\r\n   <g id=\"matplotlib.axis_2\"/>\r\n  </g>\r\n </g>\r\n</svg>\r\n",
      "image/png": "[encoded data removed]"
     },
     "metadata": {}
    }
   ]
  },
  {
   "cell_type": "code",
   "execution_count": 5,
   "metadata": {},
   "outputs": [
    {
     "output_type": "display_data",
     "data": {
      "text/plain": "<Figure size 432x288 with 1 Axes>",
      "image/svg+xml": "<?xml version=\"1.0\" encoding=\"utf-8\" standalone=\"no\"?>\r\n<!DOCTYPE svg PUBLIC \"-//W3C//DTD SVG 1.1//EN\"\r\n  \"http://www.w3.org/Graphics/SVG/1.1/DTD/svg11.dtd\">\r\n<!-- Created with matplotlib (https://matplotlib.org/) -->\r\n<svg height=\"231.84pt\" version=\"1.1\" viewBox=\"0 0 256.428733 231.84\" width=\"256.428733pt\" xmlns=\"http://www.w3.org/2000/svg\" xmlns:xlink=\"http://www.w3.org/1999/xlink\">\r\n <defs>\r\n  <style type=\"text/css\">\r\n*{stroke-linecap:butt;stroke-linejoin:round;}\r\n  </style>\r\n </defs>\r\n <g id=\"figure_1\">\r\n  <g id=\"patch_1\">\r\n   <path d=\"M 0 231.84 \r\nL 256.428733 231.84 \r\nL 256.428733 0 \r\nL 0 0 \r\nz\r\n\" style=\"fill:none;\"/>\r\n  </g>\r\n  <g id=\"axes_1\">\r\n   <g id=\"patch_2\">\r\n    <path d=\"M 214.16771 115.92 \r\nC 214.16771 105.482862 212.289021 95.130436 208.621674 85.358823 \r\nC 204.954326 75.58721 199.557851 66.555032 192.690853 58.695121 \r\nL 127.19171 115.92 \r\nL 214.16771 115.92 \r\nz\r\n\" style=\"fill:#1f77b4;\"/>\r\n   </g>\r\n   <g id=\"patch_3\">\r\n    <path d=\"M 192.690853 58.695121 \r\nC 186.039539 51.08208 178.111558 44.686637 169.263643 39.796567 \r\nC 160.415728 34.906498 150.782611 31.596265 140.797753 30.014819 \r\nC 130.812894 28.433373 120.628337 28.604795 110.702356 30.521371 \r\nC 100.776375 32.437948 91.260115 36.070495 82.581781 41.255558 \r\nC 73.903447 46.440622 66.195185 53.099247 59.803845 60.931817 \r\nC 53.412505 68.764386 48.435409 77.65163 45.096513 87.19365 \r\nC 41.757616 96.73567 40.10776 106.787165 40.221184 116.89585 \r\nC 40.334608 127.004535 42.209585 137.01648 45.761746 146.481179 \r\nC 49.313907 155.945878 54.489163 164.719207 61.054642 172.406395 \r\nC 67.620121 180.093583 75.475849 186.577573 84.268341 191.566606 \r\nC 93.060834 196.555639 102.656205 199.973744 112.622691 201.667118 \r\nC 122.589178 203.360492 132.775017 203.303349 142.721877 201.498259 \r\nC 152.668737 199.69317 162.225154 196.167621 170.961117 191.080253 \r\nC 179.69708 185.992884 187.479564 179.421162 193.958381 171.660795 \r\nC 200.437198 163.900427 205.513693 155.069584 208.959438 145.565627 \r\nC 212.405183 136.061669 214.16771 126.029317 214.16771 115.919996 \r\nL 127.19171 115.92 \r\nL 192.690853 58.695121 \r\nz\r\n\" style=\"fill:#ff7f0e;\"/>\r\n   </g>\r\n   <g id=\"matplotlib.axis_1\"/>\r\n   <g id=\"matplotlib.axis_2\"/>\r\n   <g id=\"text_1\">\r\n    <!-- Flickor -->\r\n    <defs>\r\n     <path d=\"M 9.8125 72.90625 \r\nL 51.703125 72.90625 \r\nL 51.703125 64.59375 \r\nL 19.671875 64.59375 \r\nL 19.671875 43.109375 \r\nL 48.578125 43.109375 \r\nL 48.578125 34.8125 \r\nL 19.671875 34.8125 \r\nL 19.671875 0 \r\nL 9.8125 0 \r\nz\r\n\" id=\"DejaVuSans-70\"/>\r\n     <path d=\"M 9.421875 75.984375 \r\nL 18.40625 75.984375 \r\nL 18.40625 0 \r\nL 9.421875 0 \r\nz\r\n\" id=\"DejaVuSans-108\"/>\r\n     <path d=\"M 9.421875 54.6875 \r\nL 18.40625 54.6875 \r\nL 18.40625 0 \r\nL 9.421875 0 \r\nz\r\nM 9.421875 75.984375 \r\nL 18.40625 75.984375 \r\nL 18.40625 64.59375 \r\nL 9.421875 64.59375 \r\nz\r\n\" id=\"DejaVuSans-105\"/>\r\n     <path d=\"M 48.78125 52.59375 \r\nL 48.78125 44.1875 \r\nQ 44.96875 46.296875 41.140625 47.34375 \r\nQ 37.3125 48.390625 33.40625 48.390625 \r\nQ 24.65625 48.390625 19.8125 42.84375 \r\nQ 14.984375 37.3125 14.984375 27.296875 \r\nQ 14.984375 17.28125 19.8125 11.734375 \r\nQ 24.65625 6.203125 33.40625 6.203125 \r\nQ 37.3125 6.203125 41.140625 7.25 \r\nQ 44.96875 8.296875 48.78125 10.40625 \r\nL 48.78125 2.09375 \r\nQ 45.015625 0.34375 40.984375 -0.53125 \r\nQ 36.96875 -1.421875 32.421875 -1.421875 \r\nQ 20.0625 -1.421875 12.78125 6.34375 \r\nQ 5.515625 14.109375 5.515625 27.296875 \r\nQ 5.515625 40.671875 12.859375 48.328125 \r\nQ 20.21875 56 33.015625 56 \r\nQ 37.15625 56 41.109375 55.140625 \r\nQ 45.0625 54.296875 48.78125 52.59375 \r\nz\r\n\" id=\"DejaVuSans-99\"/>\r\n     <path d=\"M 9.078125 75.984375 \r\nL 18.109375 75.984375 \r\nL 18.109375 31.109375 \r\nL 44.921875 54.6875 \r\nL 56.390625 54.6875 \r\nL 27.390625 29.109375 \r\nL 57.625 0 \r\nL 45.90625 0 \r\nL 18.109375 26.703125 \r\nL 18.109375 0 \r\nL 9.078125 0 \r\nz\r\n\" id=\"DejaVuSans-107\"/>\r\n     <path d=\"M 30.609375 48.390625 \r\nQ 23.390625 48.390625 19.1875 42.75 \r\nQ 14.984375 37.109375 14.984375 27.296875 \r\nQ 14.984375 17.484375 19.15625 11.84375 \r\nQ 23.34375 6.203125 30.609375 6.203125 \r\nQ 37.796875 6.203125 41.984375 11.859375 \r\nQ 46.1875 17.53125 46.1875 27.296875 \r\nQ 46.1875 37.015625 41.984375 42.703125 \r\nQ 37.796875 48.390625 30.609375 48.390625 \r\nz\r\nM 30.609375 56 \r\nQ 42.328125 56 49.015625 48.375 \r\nQ 55.71875 40.765625 55.71875 27.296875 \r\nQ 55.71875 13.875 49.015625 6.21875 \r\nQ 42.328125 -1.421875 30.609375 -1.421875 \r\nQ 18.84375 -1.421875 12.171875 6.21875 \r\nQ 5.515625 13.875 5.515625 27.296875 \r\nQ 5.515625 40.765625 12.171875 48.375 \r\nQ 18.84375 56 30.609375 56 \r\nz\r\n\" id=\"DejaVuSans-111\"/>\r\n     <path d=\"M 41.109375 46.296875 \r\nQ 39.59375 47.171875 37.8125 47.578125 \r\nQ 36.03125 48 33.890625 48 \r\nQ 26.265625 48 22.1875 43.046875 \r\nQ 18.109375 38.09375 18.109375 28.8125 \r\nL 18.109375 0 \r\nL 9.078125 0 \r\nL 9.078125 54.6875 \r\nL 18.109375 54.6875 \r\nL 18.109375 46.1875 \r\nQ 20.953125 51.171875 25.484375 53.578125 \r\nQ 30.03125 56 36.53125 56 \r\nQ 37.453125 56 38.578125 55.875 \r\nQ 39.703125 55.765625 41.0625 55.515625 \r\nz\r\n\" id=\"DejaVuSans-114\"/>\r\n    </defs>\r\n    <g transform=\"translate(216.76467 85.06208)scale(0.1 -0.1)\">\r\n     <use xlink:href=\"#DejaVuSans-70\"/>\r\n     <use x=\"57.519531\" xlink:href=\"#DejaVuSans-108\"/>\r\n     <use x=\"85.302734\" xlink:href=\"#DejaVuSans-105\"/>\r\n     <use x=\"113.085938\" xlink:href=\"#DejaVuSans-99\"/>\r\n     <use x=\"168.066406\" xlink:href=\"#DejaVuSans-107\"/>\r\n     <use x=\"222.351562\" xlink:href=\"#DejaVuSans-111\"/>\r\n     <use x=\"283.533203\" xlink:href=\"#DejaVuSans-114\"/>\r\n    </g>\r\n   </g>\r\n   <g id=\"text_2\">\r\n    <!-- Pojkar -->\r\n    <defs>\r\n     <path d=\"M 19.671875 64.796875 \r\nL 19.671875 37.40625 \r\nL 32.078125 37.40625 \r\nQ 38.96875 37.40625 42.71875 40.96875 \r\nQ 46.484375 44.53125 46.484375 51.125 \r\nQ 46.484375 57.671875 42.71875 61.234375 \r\nQ 38.96875 64.796875 32.078125 64.796875 \r\nz\r\nM 9.8125 72.90625 \r\nL 32.078125 72.90625 \r\nQ 44.34375 72.90625 50.609375 67.359375 \r\nQ 56.890625 61.8125 56.890625 51.125 \r\nQ 56.890625 40.328125 50.609375 34.8125 \r\nQ 44.34375 29.296875 32.078125 29.296875 \r\nL 19.671875 29.296875 \r\nL 19.671875 0 \r\nL 9.8125 0 \r\nz\r\n\" id=\"DejaVuSans-80\"/>\r\n     <path d=\"M 9.421875 54.6875 \r\nL 18.40625 54.6875 \r\nL 18.40625 -0.984375 \r\nQ 18.40625 -11.421875 14.421875 -16.109375 \r\nQ 10.453125 -20.796875 1.609375 -20.796875 \r\nL -1.8125 -20.796875 \r\nL -1.8125 -13.1875 \r\nL 0.59375 -13.1875 \r\nQ 5.71875 -13.1875 7.5625 -10.8125 \r\nQ 9.421875 -8.453125 9.421875 -0.984375 \r\nz\r\nM 9.421875 75.984375 \r\nL 18.40625 75.984375 \r\nL 18.40625 64.59375 \r\nL 9.421875 64.59375 \r\nz\r\n\" id=\"DejaVuSans-106\"/>\r\n     <path d=\"M 34.28125 27.484375 \r\nQ 23.390625 27.484375 19.1875 25 \r\nQ 14.984375 22.515625 14.984375 16.5 \r\nQ 14.984375 11.71875 18.140625 8.90625 \r\nQ 21.296875 6.109375 26.703125 6.109375 \r\nQ 34.1875 6.109375 38.703125 11.40625 \r\nQ 43.21875 16.703125 43.21875 25.484375 \r\nL 43.21875 27.484375 \r\nz\r\nM 52.203125 31.203125 \r\nL 52.203125 0 \r\nL 43.21875 0 \r\nL 43.21875 8.296875 \r\nQ 40.140625 3.328125 35.546875 0.953125 \r\nQ 30.953125 -1.421875 24.3125 -1.421875 \r\nQ 15.921875 -1.421875 10.953125 3.296875 \r\nQ 6 8.015625 6 15.921875 \r\nQ 6 25.140625 12.171875 29.828125 \r\nQ 18.359375 34.515625 30.609375 34.515625 \r\nL 43.21875 34.515625 \r\nL 43.21875 35.40625 \r\nQ 43.21875 41.609375 39.140625 45 \r\nQ 35.0625 48.390625 27.6875 48.390625 \r\nQ 23 48.390625 18.546875 47.265625 \r\nQ 14.109375 46.140625 10.015625 43.890625 \r\nL 10.015625 52.203125 \r\nQ 14.9375 54.109375 19.578125 55.046875 \r\nQ 24.21875 56 28.609375 56 \r\nQ 40.484375 56 46.34375 49.84375 \r\nQ 52.203125 43.703125 52.203125 31.203125 \r\nz\r\n\" id=\"DejaVuSans-97\"/>\r\n    </defs>\r\n    <g transform=\"translate(7.2 152.296672)scale(0.1 -0.1)\">\r\n     <use xlink:href=\"#DejaVuSans-80\"/>\r\n     <use x=\"56.677734\" xlink:href=\"#DejaVuSans-111\"/>\r\n     <use x=\"117.859375\" xlink:href=\"#DejaVuSans-106\"/>\r\n     <use x=\"145.642578\" xlink:href=\"#DejaVuSans-107\"/>\r\n     <use x=\"201.802734\" xlink:href=\"#DejaVuSans-97\"/>\r\n     <use x=\"263.082031\" xlink:href=\"#DejaVuSans-114\"/>\r\n    </g>\r\n   </g>\r\n  </g>\r\n </g>\r\n</svg>\r\n",
      "image/png": "[encoded data removed]"
     },
     "metadata": {}
    }
   ],
   "source": [
    "import matplotlib.pyplot as plt \n",
    "\n",
    "kön = [4, 31]\n",
    "labels = [\"Flickor\", \"Pojkar\"]\n",
    "plt.pie(kön, labels= labels, autopct)\n",
    "plt.show( )"
   ]
  },
  {
   "cell_type": "code",
   "execution_count": 4,
   "metadata": {},
   "outputs": [
    {
     "output_type": "error",
     "ename": "ModuleNotFoundError",
     "evalue": "No module named 'plotly'",
     "traceback": [
      "\u001b[1;31m---------------------------------------------------------------------------\u001b[0m",
      "\u001b[1;31mModuleNotFoundError\u001b[0m                       Traceback (most recent call last)",
      "\u001b[1;32m<ipython-input-4-5171ef5b2235>\u001b[0m in \u001b[0;36m<module>\u001b[1;34m\u001b[0m\n\u001b[1;32m----> 1\u001b[1;33m \u001b[1;32mimport\u001b[0m \u001b[0mplotly\u001b[0m\u001b[1;33m.\u001b[0m\u001b[0mexpress\u001b[0m \u001b[1;32mas\u001b[0m \u001b[0mpx\u001b[0m\u001b[1;33m\u001b[0m\u001b[1;33m\u001b[0m\u001b[0m\n\u001b[0m\u001b[0;32m      2\u001b[0m \u001b[1;32mimport\u001b[0m \u001b[0mnumpy\u001b[0m \u001b[1;32mas\u001b[0m \u001b[0mnp\u001b[0m\u001b[1;33m\u001b[0m\u001b[1;33m\u001b[0m\u001b[0m\n\u001b[0;32m      3\u001b[0m \u001b[1;32mimport\u001b[0m \u001b[0mpandas\u001b[0m \u001b[1;32mas\u001b[0m \u001b[0mpd\u001b[0m\u001b[1;33m\u001b[0m\u001b[1;33m\u001b[0m\u001b[0m\n\u001b[0;32m      4\u001b[0m \u001b[1;33m\u001b[0m\u001b[0m\n\u001b[0;32m      5\u001b[0m \u001b[0mantal_kast\u001b[0m \u001b[1;33m=\u001b[0m \u001b[1;36m100\u001b[0m\u001b[1;33m\u001b[0m\u001b[1;33m\u001b[0m\u001b[0m\n",
      "\u001b[1;31mModuleNotFoundError\u001b[0m: No module named 'plotly'"
     ]
    }
   ],
   "source": [
    "import plotly.express as px \n",
    "import numpy as np \n",
    "import pandas as pd\n",
    "\n",
    "antal_kast = 100 \n",
    "\n",
    "# simulera tärningskast\n",
    "tärningar = np.random.randint(1,7,antal_kast)\n",
    "\n",
    "# räkna antalet ettor, tvåor, treor...\n",
    "utfall = np.bincount(tärningar)[1:]\n",
    "\n",
    "# Skapar en dictionary \n",
    "frekvens_dict = dict(sida=np.arange(1,7), utfall = utfall)\n",
    "\n",
    "# Skapa en dataframe från dictionary \n",
    "df = pd.DataFrame(frekvens_dict)\n",
    "\n",
    "print(frekvens_dict)\n",
    "print(f\" Tärningskast:{tärningar}\")\n",
    "print(f\"Utfall per sida:{utfall}\")\n",
    "print(df)\n",
    "\n",
    "# Plotly express för att rita ett stapeldiagram\n",
    "fig = px.bar(df, x=\"sida\", y=\"utfall\", title=f\"Antal kast med en tärning{antal_kast} st\")\n",
    "fig.show()"
   ]
  },
  {
   "cell_type": "code",
   "execution_count": null,
   "metadata": {},
   "outputs": [],
   "source": []
  }
 ]
}