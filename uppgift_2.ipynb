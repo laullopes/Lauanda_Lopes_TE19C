{
 "metadata": {
  "language_info": {
   "codemirror_mode": {
    "name": "ipython",
    "version": 3
   },
   "file_extension": ".py",
   "mimetype": "text/x-python",
   "name": "python",
   "nbconvert_exporter": "python",
   "pygments_lexer": "ipython3",
   "version": "3.8.3-final"
  },
  "orig_nbformat": 2,
  "kernelspec": {
   "name": "Python 3.8.3 64-bit (conda)",
   "display_name": "Python 3.8.3 64-bit (conda)",
   "metadata": {
    "interpreter": {
     "hash": "7c563755288f0309047936d184fb15b1d33aefeeb29fedc820ad4d8760526e85"
    }
   }
  }
 },
 "nbformat": 4,
 "nbformat_minor": 2,
 "cells": [
  {
   "source": [
    "# Burr \n",
    "- När Kokchun gick i mellanstadiet fick klassen spela ett spel som heter Burr för att träna\n",
    "på multiplikationstabellen. Det går ut på att varje elev räknar upp heltal tills dess man\n",
    "hamnar på en multipel av ett tal. Då ska man istället säga ”Burr” och nästa elev fortsätter\n",
    "räkna. Ni ska återskapa det här spelet med hjälp av Python."
   ],
   "cell_type": "markdown",
   "metadata": {}
  },
  {
   "source": [
    "a) Låt programmet skriva ut tal från 1-100\n"
   ],
   "cell_type": "markdown",
   "metadata": {}
  },
  {
   "cell_type": "code",
   "execution_count": 3,
   "metadata": {},
   "outputs": [
    {
     "output_type": "stream",
     "name": "stdout",
     "text": [
      "1 2 3 4 5 6 7 8 9 10 11 12 13 14 15 16 17 18 19 20 21 22 23 24 25 26 27 28 29 30 31 32 33 34 35 36 37 38 39 40 41 42 43 44 45 46 47 48 49 50 51 52 53 54 55 56 57 58 59 60 61 62 63 64 65 66 67 68 69 70 71 72 73 74 75 76 77 78 79 80 81 82 83 84 85 86 87 88 89 90 91 92 93 94 95 96 97 98 99 100 "
     ]
    }
   ],
   "source": [
    "for tal in range(1,101): # Printar alla tal från 1-100.\n",
    "    print(tal, end= \" \")\n"
   ]
  },
  {
   "source": [
    "b) För varje multipel av 5 ska programmet skriva ut ”Burr”"
   ],
   "cell_type": "markdown",
   "metadata": {}
  },
  {
   "cell_type": "code",
   "execution_count": 40,
   "metadata": {
    "tags": []
   },
   "outputs": [
    {
     "output_type": "stream",
     "name": "stdout",
     "text": [
      "1 2 3 4 burr\n6 7 8 9 burr\n11 12 13 14 burr\n16 17 18 19 burr\n21 22 23 24 burr\n26 27 28 29 burr\n31 32 33 34 burr\n36 37 38 39 burr\n41 42 43 44 burr\n46 47 48 49 burr\n51 52 53 54 burr\n56 57 58 59 burr\n61 62 63 64 burr\n66 67 68 69 burr\n71 72 73 74 burr\n76 77 78 79 burr\n81 82 83 84 burr\n86 87 88 89 burr\n91 92 93 94 burr\n96 97 98 99 burr\n"
     ]
    }
   ],
   "source": [
    "for tal in range(1,101):\n",
    "    if tal % 5 == 0: # Printar alla multipel av 5 från 1 till 100. \n",
    "        print(\"burr\") # då kallas multipel för \"burr\". \n",
    "    else:\n",
    "        print(tal, end=' ')\n",
    "    "
   ]
  },
  {
   "source": [
    "c) Låt användaren mata in ett tal vars multiplar blir ”Burr”"
   ],
   "cell_type": "markdown",
   "metadata": {}
  },
  {
   "cell_type": "code",
   "execution_count": 13,
   "metadata": {},
   "outputs": [
    {
     "output_type": "stream",
     "name": "stdout",
     "text": [
      "1 2 3 4 5 6 7 8 9 10 11 12 13 14 15 16 17 18 19 20 21 22 23 24 25 26 27 28 29 30 31 32 33 34 35 36 37 38 39 burr\n41 42 43 44 45 46 47 48 49 50 51 52 53 54 55 56 57 58 59 60 61 62 63 64 65 66 67 68 69 70 71 72 73 74 75 76 77 78 79 burr\n81 82 83 84 85 86 87 88 89 90 91 92 93 94 95 96 97 98 99 100 "
     ]
    }
   ],
   "source": [
    "tal = int(input(\"Ange ett tal mellan 1-100\")) # skapat den variablen för att användaren ska kunna välja ett tal mellan 1 till 100.\n",
    "\n",
    "for i in range(1,101): \n",
    "    if i % tal == 0: # Om talet som användaren mattat in är delbart skrivs ut \"burr\"\n",
    "        print(\"burr\")\n",
    "    else: \n",
    "        print(i, end= \" \")\n",
    "\n",
    "    "
   ]
  },
  {
   "source": [
    "d) Låt användaren även mata in ett tal vars multiplar blir ”Birr”"
   ],
   "cell_type": "markdown",
   "metadata": {}
  },
  {
   "cell_type": "code",
   "execution_count": 2,
   "metadata": {},
   "outputs": [
    {
     "output_type": "stream",
     "name": "stdout",
     "text": [
      "1 2 3 4 5 6 burr\n8 birr\n10 11 12 13 burr\n15 16 17 birr\n19 20 burr\n22 23 24 25 26 birr\nburr\n29 30 31 32 33 34 burr\nbirr\n37 38 39 40 41 burr\n43 44 birr\n46 47 48 burr\n50 51 52 53 birr\n55 burr\n57 58 59 60 61 62 burr\n64 65 66 67 68 69 burr\n71 birr\n73 74 75 76 burr\n78 79 80 birr\n82 83 burr\n85 86 87 88 89 birr\nburr\n92 93 94 95 96 97 burr\nbirr\n100 "
     ]
    }
   ],
   "source": [
    "tal = int(input(\"Ange ett tal mellan 1-100\"))\n",
    "tal2 = int(input(\"Ange ett annat tal mellan 1-100\")) # användaren kan nu skriva ett till tal. \n",
    "\n",
    "for i in range(1,101):\n",
    "    if i % tal == 0: \n",
    "        print(\"burr\")\n",
    "    elif i % tal2 == 0: \n",
    "        print(\"birr\")\n",
    "    else: \n",
    "        print(i, end= \" \")\n"
   ]
  },
  {
   "source": [
    "e) Designa nu ett program som låter användaren välja start, slut, multipel för ”Burr”\n",
    "och multipel för ”Birr”. Programmet ska räkna upp antalet ”Burr”, ”Birr” och ”Burr\n",
    "Birr”"
   ],
   "cell_type": "markdown",
   "metadata": {}
  },
  {
   "cell_type": "code",
   "execution_count": 9,
   "metadata": {},
   "outputs": [
    {
     "output_type": "stream",
     "name": "stdout",
     "text": [
      "Antalet birr: 400\nAntalet burr: 0\nAntalet birr och burr: 100\n"
     ]
    }
   ],
   "source": [
    "\n",
    "start = int(input(\"Ange ett starttal\"))\n",
    "slut = int(input(\"Ange ett sluttal\"))\n",
    "tal = int(input(\"Ange ett tal\"))\n",
    "tal2 = int(input(\"Ange ett annat tal\"))\n",
    "\n",
    "# Dessa variabler är skapat för att man ska kunna veta antalet burr, birr och birr/burr som man får efter att ha valt talen. \n",
    "birr = 0\n",
    "burr = 0 \n",
    "birr_burr = 0 \n",
    "\n",
    "for i in range(start,slut):\n",
    "    if i % tal == 0 and i %tal2 == 0: \n",
    "        birr_burr += 1 \n",
    "    elif i % tal == 0: \n",
    "        burr += 1\n",
    "    elif i % tal2 == 0: \n",
    "        birr += 1\n",
    "    \n",
    "print(f\"Antalet birr: {birr}\")\n",
    "print(f\"Antalet burr: {burr}\")\n",
    "print(f\"Antalet birr och burr: {birr_burr}\") \n",
    "\n",
    "\n",
    "\n",
    "\n"
   ]
  },
  {
   "cell_type": "code",
   "execution_count": null,
   "metadata": {},
   "outputs": [],
   "source": []
  }
 ]
}