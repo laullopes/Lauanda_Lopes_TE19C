{
 "metadata": {
  "language_info": {
   "codemirror_mode": {
    "name": "ipython",
    "version": 3
   },
   "file_extension": ".py",
   "mimetype": "text/x-python",
   "name": "python",
   "nbconvert_exporter": "python",
   "pygments_lexer": "ipython3",
   "version": "3.8.3-final"
  },
  "orig_nbformat": 2,
  "kernelspec": {
   "name": "python3",
   "display_name": "Python 3"
  }
 },
 "nbformat": 4,
 "nbformat_minor": 2,
 "cells": [
  {
   "source": [
    "# Strängar "
   ],
   "cell_type": "markdown",
   "metadata": {}
  },
  {
   "source": [
    "1) Skriv ett program som låter användaren mata in sitt namn och programmet skriver ut antalet bokstäver i namnet."
   ],
   "cell_type": "markdown",
   "metadata": {}
  },
  {
   "cell_type": "code",
   "execution_count": 5,
   "metadata": {},
   "outputs": [
    {
     "output_type": "stream",
     "name": "stdout",
     "text": [
      "antalet bokstäver:4\n"
     ]
    }
   ],
   "source": [
    "namn = input(\"Mata in sitt namn\")\n",
    "\n",
    "print(f\"antalet bokstäver:{len(namn)}\")\n"
   ]
  },
  {
   "source": [
    "2) Skriv ett program som räknar antalet ord i denna mening: ”En bild säger mer än tusen ord, en\n",
    "matematisk formel säger mer än tusen bilder\""
   ],
   "cell_type": "markdown",
   "metadata": {}
  },
  {
   "cell_type": "code",
   "execution_count": 8,
   "metadata": {},
   "outputs": [
    {
     "output_type": "stream",
     "name": "stdout",
     "text": [
      "15\n"
     ]
    }
   ],
   "source": [
    "mening = \"En bild säger mer än tusen ord, en matematisk formel säger mer än tusen bilder\"\n",
    "\n",
    "mening = mening.split()\n",
    "print(len(mening))"
   ]
  },
  {
   "cell_type": "code",
   "execution_count": null,
   "metadata": {},
   "outputs": [],
   "source": []
  },
  {
   "source": [
    "- 4) Skriv ett program som räknar antalet vokaler i detta citat: ”Do not worry about your difficulties\n",
    "in Mathematics. I can assure you mine are still greater.”"
   ],
   "cell_type": "markdown",
   "metadata": {}
  },
  {
   "cell_type": "code",
   "execution_count": 3,
   "metadata": {},
   "outputs": [
    {
     "output_type": "stream",
     "name": "stdout",
     "text": [
      "Följden är en palidrom\n"
     ]
    }
   ],
   "source": [
    "# a \n",
    "mening = input(\"Mata in en följd av tecken utan mellan slag eller skijletecken\")\n",
    "\n",
    "if mening == mening[::-1]:\n",
    "    print(\"Följden är en palidrom\") \n",
    "\n",
    "else:\n",
    "    print(\"Följden är inte en palidrom\")\n",
    "\n"
   ]
  },
  {
   "cell_type": "code",
   "execution_count": null,
   "metadata": {},
   "outputs": [],
   "source": []
  }
 ]
}