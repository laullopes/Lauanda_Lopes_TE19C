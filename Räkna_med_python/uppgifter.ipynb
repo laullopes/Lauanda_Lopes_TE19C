{
 "metadata": {
  "language_info": {
   "codemirror_mode": {
    "name": "ipython",
    "version": 3
   },
   "file_extension": ".py",
   "mimetype": "text/x-python",
   "name": "python",
   "nbconvert_exporter": "python",
   "pygments_lexer": "ipython3",
   "version": "3.8.3-final"
  },
  "orig_nbformat": 2,
  "kernelspec": {
   "name": "python_defaultSpec_1599045875723",
   "display_name": "Python 3.8.3 64-bit ('base': conda)"
  }
 },
 "nbformat": 4,
 "nbformat_minor": 2,
 "cells": [
  {
   "cell_type": "code",
   "execution_count": 15,
   "metadata": {
    "tags": []
   },
   "outputs": [
    {
     "output_type": "stream",
     "name": "stdout",
     "text": "a 5\nb 17.0\nc 127\n"
    }
   ],
   "source": [
    "# Uppgift 1 \n",
    "print (\"a\",12-7)\n",
    "\n",
    "print (\"b\", 24/3+ 9)\n",
    "\n",
    "print (\"c\", 3* 43-2)\n",
    "\n"
   ]
  },
  {
   "cell_type": "code",
   "execution_count": 16,
   "metadata": {
    "tags": []
   },
   "outputs": [
    {
     "output_type": "stream",
     "name": "stdout",
     "text": "Hej! Hur mår du\n"
    }
   ],
   "source": [
    "# Uppgift 2 \n",
    "print (\"Hej! Hur mår du\")"
   ]
  },
  {
   "cell_type": "code",
   "execution_count": 26,
   "metadata": {
    "tags": []
   },
   "outputs": [
    {
     "output_type": "stream",
     "name": "stdout",
     "text": "a: två läsk kostar 30 kr.\nb: två läsk och en hamburgare 59 kr.\nc: tre läsk, tre hamburgare och tre pommes frites 168 kr.\n"
    }
   ],
   "source": [
    "# Uppgift 3 \n",
    "print (\"a:\", \"två läsk kostar\", 15 + 15, \"kr.\" )\n",
    "print (\"b:\", \"två läsk och en hamburgare\", 15 + 15 + 29, \"kr.\")\n",
    "print (\"c:\", \"tre läsk, tre hamburgare och tre pommes frites\", 15*3 + 29*3 + 12*3, \"kr.\")"
   ]
  },
  {
   "cell_type": "code",
   "execution_count": 27,
   "metadata": {
    "tags": []
   },
   "outputs": [
    {
     "output_type": "stream",
     "name": "stdout",
     "text": "9863\n"
    }
   ],
   "source": [
    "# Uppgift 4 \n",
    "print (219 * 45 +8)"
   ]
  },
  {
   "cell_type": "code",
   "execution_count": 29,
   "metadata": {
    "tags": []
   },
   "outputs": [
    {
     "output_type": "stream",
     "name": "stdout",
     "text": "a: Om du kör med hastigheten 70 km/h i 1,5 timmar, så hinner du\n70 5\nkm.\nb:Om du kör med hastigheten 70km/h i 1,5 timmar så hinner du 70 5 km.\n"
    }
   ],
   "source": [
    "# Uppgift 5 \n",
    "print (\"a:\", \"Om du kör med hastigheten 70 km/h i 1,5 timmar, så hinner du\")\n",
    "print (70 * 1,5)\n",
    "print (\"km.\")\n",
    "# de hamnar inte på samma rad bara \n",
    "print (\"b:\" \"Om du kör med hastigheten 70km/h i 1,5 timmar så hinner du\",70 * 1,5, \"km.\" )"
   ]
  },
  {
   "cell_type": "code",
   "execution_count": null,
   "metadata": {
    "tags": []
   },
   "outputs": [],
   "source": [
    "# Uppgift 6 \n",
    "print (\"hej\" + \"hej\")\n",
    "print (3 * \"hej\")\n",
    "print (10* \"hej\")"
   ]
  }
 ]
}