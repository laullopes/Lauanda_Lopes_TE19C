{
 "metadata": {
  "language_info": {
   "codemirror_mode": {
    "name": "ipython",
    "version": 3
   },
   "file_extension": ".py",
   "mimetype": "text/x-python",
   "name": "python",
   "nbconvert_exporter": "python",
   "pygments_lexer": "ipython3",
   "version": "3.8.3-final"
  },
  "orig_nbformat": 2,
  "kernelspec": {
   "name": "python3",
   "display_name": "Python 3",
   "language": "python"
  }
 },
 "nbformat": 4,
 "nbformat_minor": 2,
 "cells": [
  {
   "source": [
    "# Felhantering \n",
    "- syntaxfel - språkregler följs inte hittas när skriver programmet/under exekvering. \n",
    "- exekveringsfel - felet upptäckts under körningen, vilket kan krascha programmet.\n",
    "- logiskt fel - \"Felaktig lösning på problemet\", kan ge felaktiga resultat. Svåra att upptäckta. "
   ],
   "cell_type": "markdown",
   "metadata": {}
  },
  {
   "cell_type": "code",
   "execution_count": 16,
   "metadata": {},
   "outputs": [
    {
     "output_type": "stream",
     "name": "stdout",
     "text": [
      "Ålder ska vara ett tal och inte sträng\n",
      "Du är vuxen\n"
     ]
    }
   ],
   "source": [
    "\n",
    "# if ålder >= 18 and ålder > 0 and ålder < 100:\n",
    "while True:\n",
    "    try:\n",
    "        ålder = int(input(\"Hur gammal är du?\"))\n",
    "        # Detta löser ett logiskt fel - genom att generera felsignal\n",
    "        assert ålder >= 0 and ålder < 125, \"Din ålder ska vara mellan 0 och 124\"\n",
    "        break # Hoppar ut från while-satsen  \n",
    "    except AssertionError as msg:\n",
    "        print(msg)\n",
    "    except:\n",
    "        print(\"Ålder ska vara ett tal och inte sträng\")\n",
    "\n",
    "if ålder >= 18: \n",
    "    print(\"Du är vuxen\")\n",
    "else:\n",
    "    print(\"Du är barn\")\n"
   ]
  },
  {
   "source": [
    "# Genomgång 2021-02-12"
   ],
   "cell_type": "markdown",
   "metadata": {}
  },
  {
   "cell_type": "code",
   "execution_count": 6,
   "metadata": {},
   "outputs": [
    {
     "output_type": "stream",
     "name": "stdout",
     "text": [
      "Felaktiga tal\n[35.0, 20.0, 78.0, 90.0]\n"
     ]
    }
   ],
   "source": [
    "# Låt användaremn  mata in ett antal tal \n",
    "# Skriv ut största talet \n",
    "# Skriv ut minsta talet \n",
    "\n",
    "tal_str = input(\"Skriv in ett antal tal med mellanrum emellan: \")\n",
    "lista_str = tal_str.split() # split ger oss en lista, splittar där vi har mellanslag \n",
    "\n",
    "# här kan man lägga in while-sats för att fråga användaren igen \n",
    "try:\n",
    "     tal_lista = [float(x) for x in lista_str] # lista av flyttal \n",
    "     # har man ex 3 tal --> använda assert för att säkerställa att man får tre tal \n",
    "     störst = max(tal_lista)\n",
    "     minst = min(tal_lista)\n",
    "     print(f\"Största talet är {störst}, minsta talet är {minst}\")\n",
    "\n",
    "except:\n",
    "    print(\"Felaktiga tal\")\n",
    "\n",
    "\n",
    "print(tal_lista)\n",
    " "
   ]
  }
 ]
}