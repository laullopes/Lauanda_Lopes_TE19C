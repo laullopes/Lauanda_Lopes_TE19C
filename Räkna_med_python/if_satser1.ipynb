{
 "metadata": {
  "language_info": {
   "codemirror_mode": {
    "name": "ipython",
    "version": 3
   },
   "file_extension": ".py",
   "mimetype": "text/x-python",
   "name": "python",
   "nbconvert_exporter": "python",
   "pygments_lexer": "ipython3",
   "version": "3.8.3-final"
  },
  "orig_nbformat": 2,
  "kernelspec": {
   "name": "python_defaultSpec_1600364906457",
   "display_name": "Python 3.8.3 64-bit ('base': conda)"
  }
 },
 "nbformat": 4,
 "nbformat_minor": 2,
 "cells": [
  {
   "cell_type": "markdown",
   "metadata": {},
   "source": [
    "# Jämt eller udda?\n",
    "- läs in ett tal och checka oom talet är jämt eller udda "
   ]
  },
  {
   "cell_type": "code",
   "execution_count": 1,
   "metadata": {
    "tags": []
   },
   "outputs": [
    {
     "output_type": "stream",
     "name": "stdout",
     "text": "Talet är udda\n"
    }
   ],
   "source": [
    "tal = int(input(\"Ange ett heltal:\")) #typomvandlar till int (heltal)\n",
    "\n",
    "# med % --> om tal%2 == 0 --> jämnt, annars udda \n",
    "if tal%2 == 0: \n",
    "    print (\"Talet är jämnt\")\n",
    "else: \n",
    "    print(\"Talet är udda\")\n"
   ]
  },
  {
   "source": [
    "# Triangels vinkel \n",
    "- spetsig \n",
    "- rät \n",
    "- trubbig \n",
    "- annat\n",
    "\n",
    "Spetsig: $0 \\le v < 90$\n",
    "\n",
    "Rät: v= 90 \n",
    "\n",
    "TRubbig: 90 < v < 180 "
   ],
   "cell_type": "markdown",
   "metadata": {}
  },
  {
   "cell_type": "code",
   "execution_count": 2,
   "metadata": {
    "tags": []
   },
   "outputs": [
    {
     "output_type": "stream",
     "name": "stdout",
     "text": "Vinkeln är inte spetsig,rät eller trubbig\nProgrammet fortsätter här\n"
    }
   ],
   "source": [
    "vinkel = float(input(\"Ange en vinkel v i grader, där 0 <= v <= 360 : \"))\n",
    "\n",
    "if vinkel >= 0 and vinkel < 90:\n",
    "    print(\"spetsig vinkel\")\n",
    "elif vinkel == 90:\n",
    "    print (\"Rät vinkel\")\n",
    "elif vinkel > 90 and vinkel <180: \n",
    "    print(\"Trubbig vinkel\")\n",
    "else: \n",
    "    print(\"Vinkeln är inte spetsig,rät eller trubbig\")\n",
    "\n",
    "print (\"Programmet fortsätter här\")"
   ]
  },
  {
   "cell_type": "code",
   "execution_count": null,
   "metadata": {},
   "outputs": [],
   "source": []
  }
 ]
}