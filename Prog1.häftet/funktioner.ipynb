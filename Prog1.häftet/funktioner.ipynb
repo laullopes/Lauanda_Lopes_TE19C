{
 "metadata": {
  "language_info": {
   "codemirror_mode": {
    "name": "ipython",
    "version": 3
   },
   "file_extension": ".py",
   "mimetype": "text/x-python",
   "name": "python",
   "nbconvert_exporter": "python",
   "pygments_lexer": "ipython3",
   "version": "3.8.3-final"
  },
  "orig_nbformat": 2,
  "kernelspec": {
   "name": "python3",
   "display_name": "Python 3"
  }
 },
 "nbformat": 4,
 "nbformat_minor": 2,
 "cells": [
  {
   "source": [
    "# Programeringsövningshäftet - Funktioner"
   ],
   "cell_type": "markdown",
   "metadata": {}
  },
  {
   "cell_type": "code",
   "execution_count": 2,
   "metadata": {},
   "outputs": [
    {
     "output_type": "stream",
     "name": "stdout",
     "text": [
      "5050.0\n"
     ]
    }
   ],
   "source": [
    "# Uppgift 1 - a) och b)\n",
    "def aritmetisk_summa(n,a1,an): \n",
    "   return n*(a1+an)/2\n",
    "\n",
    "print(aritmetisk_summa(100,1,100))\n"
   ]
  },
  {
   "cell_type": "code",
   "execution_count": 4,
   "metadata": {},
   "outputs": [
    {
     "output_type": "stream",
     "name": "stdout",
     "text": [
      "Aritmetisk summan blir: 800.0\n"
     ]
    }
   ],
   "source": [
    "# Uppgift 1 - c)\n",
    "n= int(input(\"Mata in ett tal\"))\n",
    "a1= int(input(\"Mata in ett tal\"))\n",
    "an= int(input(\"Mata in ett tal\"))\n",
    "\n",
    "def aritmetisk_summa(n,a1,an): \n",
    "   return n*(a1+an)/2\n",
    "\n",
    "print(f\"Aritmetisk summan blir: {aritmetisk_summa(n,a1,an)}\")\n",
    "\n",
    "\n"
   ]
  },
  {
   "cell_type": "code",
   "execution_count": 25,
   "metadata": {},
   "outputs": [
    {
     "output_type": "stream",
     "name": "stdout",
     "text": [
      "16\n"
     ]
    }
   ],
   "source": [
    "# Uppgift 2 - a \n",
    "\n",
    "n = int(input(\"Mata in ett udda tal\"))\n",
    "\n",
    "def summa(n):\n",
    "    x = 0\n",
    "    for i in range(1,2*n+1,2):\n",
    "        x += i\n",
    "    return x+2*n+1 \n",
    "\n",
    "print(summa(n))\n"
   ]
  },
  {
   "cell_type": "code",
   "execution_count": 28,
   "metadata": {},
   "outputs": [
    {
     "output_type": "stream",
     "name": "stdout",
     "text": [
      "35\n"
     ]
    }
   ],
   "source": [
    "# Uppgift 2 - b \n",
    "\n",
    "n = int(input(\"Mata in ett tal\"))\n",
    "start =  int(input(\"Mata in ett tal\"))\n",
    "\n",
    "def summa(n):\n",
    "    x = 0\n",
    "    for i in range(start,2*n+1,2):\n",
    "        x += i\n",
    "    return x+2*n+1 \n",
    "\n",
    "print(summa(n))\n"
   ]
  },
  {
   "cell_type": "code",
   "execution_count": 10,
   "metadata": {},
   "outputs": [
    {
     "output_type": "stream",
     "name": "stdout",
     "text": [
      " 4.242641\n 2.236068\n5.0\n"
     ]
    }
   ],
   "source": [
    "# Uppgift 3 - a) \n",
    "'''\n",
    "import math \n",
    "\n",
    "avståndp1 = math.sqrt(3**2 + 3**2)\n",
    "avståndp2 = math.sqrt((-2)**2 + 1**2)\n",
    "\n",
    "print(f\"{avståndp1: 0f}\") \n",
    "print(f\"{avståndp2: 0f}\") \n",
    "\n",
    "print(\"Avstånd från origo på båda punkter\") \n",
    "\n",
    "''' \n",
    "import math \n",
    "\n",
    "avstånd = math.sqrt((-2-3)**2 + (3-3)**2) \n",
    "\n",
    "print(avstånd)\n",
    "\n"
   ]
  },
  {
   "cell_type": "code",
   "execution_count": 9,
   "metadata": {},
   "outputs": [
    {
     "output_type": "stream",
     "name": "stdout",
     "text": [
      "5.0\n"
     ]
    }
   ],
   "source": [
    "# Uppgift 3 - b)\n",
    "import math \n",
    "\n",
    "p1 = \n",
    "p2 = \n",
    "\n",
    "def \n",
    "avstånd = math.sqrt((-2-3)**2 + (3-3)**2) \n",
    "\n",
    "print(avstånd)\n"
   ]
  },
  {
   "source": [
    "# Genomgång : area av triangel \n",
    "\n"
   ],
   "cell_type": "markdown",
   "metadata": {}
  },
  {
   "cell_type": "code",
   "execution_count": 2,
   "metadata": {},
   "outputs": [
    {
     "output_type": "stream",
     "name": "stdout",
     "text": [
      "Area på en triangel med bas 2 1.e. och höjd 4 1.e. är 4.0 a.e.\nArea på en triangel med bas 10 1.e. och höjd 12 1.e. är 60.0 a.e.\n"
     ]
    }
   ],
   "source": [
    "def triangelArea(bas,höjd):\n",
    "    area = (bas*höjd)/2\n",
    "    return area \n",
    "\n",
    "area1 = triangelArea(2,4)\n",
    "area2 = triangelArea(10,12)\n",
    "\n",
    "print(f\"Area på en triangel med bas 2 1.e. och höjd 4 1.e. är {area1} a.e.\")\n",
    "\n",
    "print(f\"Area på en triangel med bas 10 1.e. och höjd 12 1.e. är {area2} a.e.\")"
   ]
  },
  {
   "cell_type": "code",
   "execution_count": null,
   "metadata": {},
   "outputs": [],
   "source": []
  }
 ]
}