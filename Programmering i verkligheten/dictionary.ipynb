{
 "metadata": {
  "language_info": {
   "codemirror_mode": {
    "name": "ipython",
    "version": 3
   },
   "file_extension": ".py",
   "mimetype": "text/x-python",
   "name": "python",
   "nbconvert_exporter": "python",
   "pygments_lexer": "ipython3",
   "version": "3.8.3-final"
  },
  "orig_nbformat": 2,
  "kernelspec": {
   "name": "python3",
   "display_name": "Python 3.8.3 64-bit (conda)",
   "metadata": {
    "interpreter": {
     "hash": "7c563755288f0309047936d184fb15b1d33aefeeb29fedc820ad4d8760526e85"
    }
   }
  }
 },
 "nbformat": 4,
 "nbformat_minor": 2,
 "cells": [
  {
   "cell_type": "code",
   "execution_count": null,
   "metadata": {},
   "outputs": [],
   "source": [
    "# Dictionary\n",
    "\n",
    "- key:value par \n",
    "- metafor: vanlig ordlista/lexikon "
   ]
  },
  {
   "cell_type": "code",
   "execution_count": 1,
   "metadata": {},
   "outputs": [
    {
     "output_type": "stream",
     "name": "stdout",
     "text": [
      "18\n"
     ]
    }
   ],
   "source": [
    "# Syntax för dictionary \n",
    "\n",
    "person = dict(\n",
    "    namn = \"Lauanda\",\n",
    "    ålder = \"18\",\n",
    "    yrke = \"student\",\n",
    "    arbetsplats = \"NTI kronhus\"\n",
    ")\n",
    "\n",
    "# åtkomstoperatorn [] för att hitta värderna i key:value par \n",
    "\n",
    "print(person[\"ålder\"])"
   ]
  },
  {
   "cell_type": "code",
   "execution_count": 7,
   "metadata": {},
   "outputs": [
    {
     "output_type": "stream",
     "name": "stdout",
     "text": [
      "Ord vi behöver lära oss:\ntilldela \t ge ett värde till en variabel\ndatastruktur \t struktuering av data\nsträng \t sekvens av tecken\ndictionary \t datastruktur för att spara data i key:value par\n\n\nGloslista\ntilldela \t ge ett värde till en variabel\ndatastruktur \t struktuering av data\nsträng \t sekvens av tecken\ndictionary \t datastruktur för att spara data i key:value par\n"
     ]
    }
   ],
   "source": [
    "# Syntax med {}\n",
    "\n",
    "glosor = {\n",
    "    \"tilldela\":\"ge ett värde till en variabel\",\n",
    "    \"datastruktur\":\"struktuering av data\",\n",
    "    \"sträng\":\"sekvens av tecken\"\n",
    "}\n",
    "\n",
    "# lägga till ett element \n",
    "glosor[\"dictionary\"] = \"datastruktur för att spara data i key:value par\"\n",
    "\n",
    "\"\"\"print(glosor[\"tilldela\"])\n",
    "print(glosor[\"dictionary\"])\"\"\"\n",
    "\n",
    "# ett sätt att loopa igeno men dictionary \n",
    "print(\"Ord vi behöver lära oss:\")\n",
    "for key in glosor:\n",
    "    print(f\"{key} \\t {glosor[key]}\")\n",
    "\n",
    "print(\"\\n\\nGloslista\")\n",
    "# ett annat sätt\n",
    "\n",
    "for key, value in glosor.items():\n",
    "    print(f\"{key} \\t {value}\")\n",
    "\n"
   ]
  },
  {
   "cell_type": "code",
   "execution_count": null,
   "metadata": {},
   "outputs": [],
   "source": []
  }
 ]
}