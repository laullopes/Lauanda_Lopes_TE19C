{
 "metadata": {
  "language_info": {
   "codemirror_mode": {
    "name": "ipython",
    "version": 3
   },
   "file_extension": ".py",
   "mimetype": "text/x-python",
   "name": "python",
   "nbconvert_exporter": "python",
   "pygments_lexer": "ipython3",
   "version": "3.8.3-final"
  },
  "orig_nbformat": 2,
  "kernelspec": {
   "name": "python3",
   "display_name": "Python 3",
   "language": "python"
  }
 },
 "nbformat": 4,
 "nbformat_minor": 2,
 "cells": [
  {
   "source": [
    "# Felhantering \n",
    "- syntaxfel - språkregler följs inte hittas när skriver programmet/under exekvering. \n",
    "- exekveringsfel - felet upptäckts under körningen, vilket kan krascha programmet.\n",
    "- logiskt fel - \"Felaktig lösning på problemet\", kan ge felaktiga resultat. Svåra att upptäckta. "
   ],
   "cell_type": "markdown",
   "metadata": {}
  },
  {
   "cell_type": "code",
   "execution_count": 16,
   "metadata": {},
   "outputs": [
    {
     "output_type": "stream",
     "name": "stdout",
     "text": [
      "Ålder ska vara ett tal och inte sträng\n",
      "Du är vuxen\n"
     ]
    }
   ],
   "source": [
    "\n",
    "# if ålder >= 18 and ålder > 0 and ålder < 100:\n",
    "while True:\n",
    "    try:\n",
    "        ålder = int(input(\"Hur gammal är du?\"))\n",
    "        # Detta löser ett logiskt fel \n",
    "        assert ålder >= 0 and ålder < 125, \"Din ålder ska vara mellan 0 och 124\"\n",
    "        break # Hoppar ut från while-satsen  \n",
    "    except AssertionError as msg:\n",
    "        print(msg)\n",
    "    except:\n",
    "        print(\"Ålder ska vara ett tal och inte sträng\")\n",
    "\n",
    "if ålder >= 18: \n",
    "    print(\"Du är vuxen\")\n",
    "else:\n",
    "    print(\"Du är barn\")\n"
   ]
  },
  {
   "source": [
    "# Programeringhäftet "
   ],
   "cell_type": "markdown",
   "metadata": {}
  },
  {
   "cell_type": "code",
   "execution_count": 19,
   "metadata": {},
   "outputs": [
    {
     "output_type": "stream",
     "name": "stdout",
     "text": [
      "0.7071067811865476\n"
     ]
    }
   ],
   "source": [
    "# Uppgift 1 \n",
    "\n",
    "import numpy as np \n",
    "\n",
    "def distance(p1, p2):\n",
    "    return np.sqrt(p1**2 + p2**2) \n",
    "\n",
    "print(distance(0.5,0.5))"
   ]
  },
  {
   "cell_type": "code",
   "execution_count": 26,
   "metadata": {},
   "outputs": [
    {
     "output_type": "stream",
     "name": "stdout",
     "text": [
      "100 är inte fyrsiffrigt\n231 är inte fyrsiffrigt\n10000 är fyrsiffrigt\n10001 är fyrsiffrigt\n-1000 är inte fyrsiffrigt\n102313 är fyrsiffrigt\n"
     ]
    }
   ],
   "source": [
    "# Uppgift 2 \n",
    "\n",
    "def ar_fyrsiffrigt(tal):\n",
    "    if tal//1000 > 1:\n",
    "        return True\n",
    "    else:\n",
    "        return False \n",
    "\n",
    "# testprogram \n",
    "\n",
    "testtal = [100, 231, 10000, 10001, -1000, 102313]\n",
    "\n",
    "for t in testtal:\n",
    "    if ar_fyrsiffrigt(t):\n",
    "        print(f\"{t} är fyrsiffrigt\")\n",
    "    else:\n",
    "        print(f\"{t} är inte fyrsiffrigt\")"
   ]
  },
  {
   "cell_type": "code",
   "execution_count": null,
   "metadata": {},
   "outputs": [],
   "source": []
  }
 ]
}