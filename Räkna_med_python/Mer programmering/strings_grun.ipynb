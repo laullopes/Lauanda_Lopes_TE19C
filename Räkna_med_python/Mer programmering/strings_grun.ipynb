{
 "metadata": {
  "language_info": {
   "codemirror_mode": {
    "name": "ipython",
    "version": 3
   },
   "file_extension": ".py",
   "mimetype": "text/x-python",
   "name": "python",
   "nbconvert_exporter": "python",
   "pygments_lexer": "ipython3",
   "version": "3.8.3-final"
  },
  "orig_nbformat": 2,
  "kernelspec": {
   "name": "python3",
   "display_name": "Python 3",
   "language": "python"
  }
 },
 "nbformat": 4,
 "nbformat_minor": 2,
 "cells": [
  {
   "source": [
    "# Strängar i Python \n",
    "- indexeringsoperatorn []\n",
    "- skivoperatorn :\n",
    "- escape-sekvenser\n"
   ],
   "cell_type": "markdown",
   "metadata": {}
  },
  {
   "source": [
    "# Konkatenering \n",
    "lägger ihop strängar "
   ],
   "cell_type": "markdown",
   "metadata": {}
  },
  {
   "source": [
    "förnamn = \"Lauanda\"\n",
    "efternamn = \"Lopes\"\n",
    "\n",
    "# konkatenering (addera strängarna)\n",
    "namn = förnamn + \" \" + efternamn\n",
    "ålder = \"17\" \n",
    "adress = \"Bykällevägen 102\"\n",
    "telefon = 115 \n",
    "\n",
    "personuppg = \"Namn:\" + namn + \"\\n\" + \"Ålder:\" + ålder + \"\\n\" + \"Telefon:\" + str(telefon)\n",
    "\n",
    "print(personuppg)\n"
   ],
   "cell_type": "code",
   "metadata": {},
   "execution_count": 1,
   "outputs": [
    {
     "output_type": "stream",
     "name": "stdout",
     "text": [
      "Namn:Lauanda Lopes\nÅlder:17\nTelefon:115\n"
     ]
    }
   ]
  },
  {
   "cell_type": "code",
   "execution_count": 2,
   "metadata": {},
   "outputs": [
    {
     "output_type": "stream",
     "name": "stdout",
     "text": [
      "10\n"
     ]
    }
   ],
   "source": [
    "tal1 = int(input(\"Ange ett tal:\"))\n",
    "tal2 = int(input(\"Ange ett annat tal:\"))\n",
    "\n",
    "summa = tal1 + tal2 \n",
    "print(summa)"
   ]
  },
  {
   "source": [
    "## Indexering \n"
   ],
   "cell_type": "markdown",
   "metadata": {}
  },
  {
   "cell_type": "code",
   "execution_count": 8,
   "metadata": {},
   "outputs": [
    {
     "output_type": "stream",
     "name": "stdout",
     "text": [
      "Alfabetet innehåller 29 bokstäver\nBokstav på index 0: a\nBokstav på index -2: ä\nBokstav på index 6: g\nAlfabetet baklänges:öäåzyxwvutsrqponmlkjihgfedcba\n"
     ]
    }
   ],
   "source": [
    "alfabet = \"abcdefghijklmnopqrstuvwxyzåäö\"\n",
    "\n",
    "print(f\"Alfabetet innehåller {len(alfabet)} bokstäver\")\n",
    "\n",
    "# indexera \n",
    "print(f\"Bokstav på index 0: {alfabet[0]}\")\n",
    "print(f\"Bokstav på index -2: {alfabet[-2]}\")\n",
    "print(f\"Bokstav på index 6: {alfabet[6]}\")\n",
    "print(f\"Alfabetet baklänges:{alfabet[::-1]}\")\n"
   ]
  },
  {
   "source": [
    "## Spli()"
   ],
   "cell_type": "markdown",
   "metadata": {}
  },
  {
   "cell_type": "code",
   "execution_count": 16,
   "metadata": {},
   "outputs": [
    {
     "output_type": "stream",
     "name": "stdout",
     "text": [
      "['matematik', 'programmering', 'teknik', 'webbutveckling', 'fysik']\n['lasagne', 'pasta', 'kött', 'sushi', 'tacos', 'indiskt']\nJag älskar att äta lasagne\nJag älskar att äta pasta\nJag älskar att äta kött\nJag älskar att äta sushi\nJag älskar att äta tacos\nJag älskar att äta indiskt\n"
     ]
    }
   ],
   "source": [
    "favoritämnen = \"matematik programmering teknik webbutveckling fysik \"\n",
    "\n",
    "favoritmat = \"lasagne, pasta, kött, sushi, tacos, indiskt\"\n",
    "# split( ) separerar en sträng \n",
    "\n",
    "favoritämnen = favoritämnen.split()\n",
    "favoritmat = favoritmat.split(\", \")\n",
    "\n",
    "print(favoritämnen)\n",
    "print(favoritmat)\n",
    "\n",
    "for mat in favoritmat:\n",
    "    print(f\"Jag älskar att äta {mat}\")"
   ]
  },
  {
   "cell_type": "code",
   "execution_count": null,
   "metadata": {},
   "outputs": [],
   "source": []
  }
 ]
}