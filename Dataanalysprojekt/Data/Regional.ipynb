{
 "metadata": {
  "language_info": {
   "codemirror_mode": {
    "name": "ipython",
    "version": 3
   },
   "file_extension": ".py",
   "mimetype": "text/x-python",
   "name": "python",
   "nbconvert_exporter": "python",
   "pygments_lexer": "ipython3",
   "version": "3.8.3"
  },
  "orig_nbformat": 2,
  "kernelspec": {
   "name": "python383jvsc74a57bd07c563755288f0309047936d184fb15b1d33aefeeb29fedc820ad4d8760526e85",
   "display_name": "Python 3.8.3 64-bit (conda)"
  }
 },
 "nbformat": 4,
 "nbformat_minor": 2,
 "cells": [
  {
   "cell_type": "code",
   "execution_count": 1,
   "metadata": {},
   "outputs": [
    {
     "output_type": "execute_result",
     "data": {
      "text/plain": [
       "                 Region  Total_Cases  Cases_per_100k_Pop  \\\n",
       "0              Blekinge         7646         4790.546875   \n",
       "1               Dalarna        13942         4841.543945   \n",
       "2               Gotland         2650         4439.902344   \n",
       "3             Gävleborg        19426         6759.644043   \n",
       "4               Halland        21052         6305.863770   \n",
       "5   Jämtland Härjedalen         6249         4777.157715   \n",
       "6             Jönköping        24236         6665.584961   \n",
       "7                Kalmar        10391         4233.517578   \n",
       "8             Kronoberg        13080         6492.313965   \n",
       "9            Norrbotten        10977         4389.166992   \n",
       "10                Skåne       103958         7545.069336   \n",
       "11            Stockholm       144522         6079.809570   \n",
       "12             Sörmland        12214         4104.994141   \n",
       "13              Uppsala        22684         5911.709961   \n",
       "14             Värmland         8320         2946.029541   \n",
       "15         Västerbotten        11957         4400.226562   \n",
       "16       Västernorrland        14034         5720.062012   \n",
       "17          Västmanland        17408         6310.790527   \n",
       "18      Västra Götaland       105596         6118.382324   \n",
       "19               Örebro        16934         5555.683105   \n",
       "20         Östergötland        21135         4540.328125   \n",
       "\n",
       "    Total_ICU_Admissions  Total_Deaths  \n",
       "0                     34           112  \n",
       "1                    101           302  \n",
       "2                     24            44  \n",
       "3                    150           482  \n",
       "4                    101           254  \n",
       "5                     46           100  \n",
       "6                    219           486  \n",
       "7                     61           207  \n",
       "8                     79           284  \n",
       "9                    114           212  \n",
       "10                   453          1474  \n",
       "11                  1530          3820  \n",
       "12                   223           389  \n",
       "13                   241           467  \n",
       "14                    64           162  \n",
       "15                    75           123  \n",
       "16                   112           387  \n",
       "17                    88           311  \n",
       "18                   926          1993  \n",
       "19                   135           285  \n",
       "20                   217           534  "
      ],
      "text/html": "<div>\n<style scoped>\n    .dataframe tbody tr th:only-of-type {\n        vertical-align: middle;\n    }\n\n    .dataframe tbody tr th {\n        vertical-align: top;\n    }\n\n    .dataframe thead th {\n        text-align: right;\n    }\n</style>\n<table border=\"1\" class=\"dataframe\">\n  <thead>\n    <tr style=\"text-align: right;\">\n      <th></th>\n      <th>Region</th>\n      <th>Total_Cases</th>\n      <th>Cases_per_100k_Pop</th>\n      <th>Total_ICU_Admissions</th>\n      <th>Total_Deaths</th>\n    </tr>\n  </thead>\n  <tbody>\n    <tr>\n      <th>0</th>\n      <td>Blekinge</td>\n      <td>7646</td>\n      <td>4790.546875</td>\n      <td>34</td>\n      <td>112</td>\n    </tr>\n    <tr>\n      <th>1</th>\n      <td>Dalarna</td>\n      <td>13942</td>\n      <td>4841.543945</td>\n      <td>101</td>\n      <td>302</td>\n    </tr>\n    <tr>\n      <th>2</th>\n      <td>Gotland</td>\n      <td>2650</td>\n      <td>4439.902344</td>\n      <td>24</td>\n      <td>44</td>\n    </tr>\n    <tr>\n      <th>3</th>\n      <td>Gävleborg</td>\n      <td>19426</td>\n      <td>6759.644043</td>\n      <td>150</td>\n      <td>482</td>\n    </tr>\n    <tr>\n      <th>4</th>\n      <td>Halland</td>\n      <td>21052</td>\n      <td>6305.863770</td>\n      <td>101</td>\n      <td>254</td>\n    </tr>\n    <tr>\n      <th>5</th>\n      <td>Jämtland Härjedalen</td>\n      <td>6249</td>\n      <td>4777.157715</td>\n      <td>46</td>\n      <td>100</td>\n    </tr>\n    <tr>\n      <th>6</th>\n      <td>Jönköping</td>\n      <td>24236</td>\n      <td>6665.584961</td>\n      <td>219</td>\n      <td>486</td>\n    </tr>\n    <tr>\n      <th>7</th>\n      <td>Kalmar</td>\n      <td>10391</td>\n      <td>4233.517578</td>\n      <td>61</td>\n      <td>207</td>\n    </tr>\n    <tr>\n      <th>8</th>\n      <td>Kronoberg</td>\n      <td>13080</td>\n      <td>6492.313965</td>\n      <td>79</td>\n      <td>284</td>\n    </tr>\n    <tr>\n      <th>9</th>\n      <td>Norrbotten</td>\n      <td>10977</td>\n      <td>4389.166992</td>\n      <td>114</td>\n      <td>212</td>\n    </tr>\n    <tr>\n      <th>10</th>\n      <td>Skåne</td>\n      <td>103958</td>\n      <td>7545.069336</td>\n      <td>453</td>\n      <td>1474</td>\n    </tr>\n    <tr>\n      <th>11</th>\n      <td>Stockholm</td>\n      <td>144522</td>\n      <td>6079.809570</td>\n      <td>1530</td>\n      <td>3820</td>\n    </tr>\n    <tr>\n      <th>12</th>\n      <td>Sörmland</td>\n      <td>12214</td>\n      <td>4104.994141</td>\n      <td>223</td>\n      <td>389</td>\n    </tr>\n    <tr>\n      <th>13</th>\n      <td>Uppsala</td>\n      <td>22684</td>\n      <td>5911.709961</td>\n      <td>241</td>\n      <td>467</td>\n    </tr>\n    <tr>\n      <th>14</th>\n      <td>Värmland</td>\n      <td>8320</td>\n      <td>2946.029541</td>\n      <td>64</td>\n      <td>162</td>\n    </tr>\n    <tr>\n      <th>15</th>\n      <td>Västerbotten</td>\n      <td>11957</td>\n      <td>4400.226562</td>\n      <td>75</td>\n      <td>123</td>\n    </tr>\n    <tr>\n      <th>16</th>\n      <td>Västernorrland</td>\n      <td>14034</td>\n      <td>5720.062012</td>\n      <td>112</td>\n      <td>387</td>\n    </tr>\n    <tr>\n      <th>17</th>\n      <td>Västmanland</td>\n      <td>17408</td>\n      <td>6310.790527</td>\n      <td>88</td>\n      <td>311</td>\n    </tr>\n    <tr>\n      <th>18</th>\n      <td>Västra Götaland</td>\n      <td>105596</td>\n      <td>6118.382324</td>\n      <td>926</td>\n      <td>1993</td>\n    </tr>\n    <tr>\n      <th>19</th>\n      <td>Örebro</td>\n      <td>16934</td>\n      <td>5555.683105</td>\n      <td>135</td>\n      <td>285</td>\n    </tr>\n    <tr>\n      <th>20</th>\n      <td>Östergötland</td>\n      <td>21135</td>\n      <td>4540.328125</td>\n      <td>217</td>\n      <td>534</td>\n    </tr>\n  </tbody>\n</table>\n</div>"
     },
     "metadata": {},
     "execution_count": 1
    }
   ],
   "source": [
    "import pandas as pd \n",
    "\n",
    "df = pd.read_csv(\"Regional_Totals_Data.csv\")\n",
    "\n",
    "df"
   ]
  },
  {
   "cell_type": "code",
   "execution_count": null,
   "metadata": {},
   "outputs": [],
   "source": [
    "'''\n",
    "\n",
    "plt.plot()\n",
    "plt.title()\n",
    "plt.xlabel()\n",
    "plt.ylabel()\n",
    "plt.legend(firt put label=\"name\" in the plots )\n",
    "plt.show()\n",
    "\n",
    "'''\n",
    "\n"
   ]
  }
 ]
}