{
 "metadata": {
  "language_info": {
   "codemirror_mode": {
    "name": "ipython",
    "version": 3
   },
   "file_extension": ".py",
   "mimetype": "text/x-python",
   "name": "python",
   "nbconvert_exporter": "python",
   "pygments_lexer": "ipython3",
   "version": "3.8.3-final"
  },
  "orig_nbformat": 2,
  "kernelspec": {
   "name": "python_defaultSpec_1600403701487",
   "display_name": "Python 3.8.3 64-bit ('base': conda)"
  }
 },
 "nbformat": 4,
 "nbformat_minor": 2,
 "cells": [
  {
   "source": [
    "# If-satser \n"
   ],
   "cell_type": "markdown",
   "metadata": {}
  },
  {
   "source": [
    "# Uppgift 1 \n",
    "- Skriv ett program som låter användaren mata in ett tal och skriv ut om talet är positivt, negativt eller noll. "
   ],
   "cell_type": "markdown",
   "metadata": {}
  },
  {
   "cell_type": "code",
   "execution_count": 8,
   "metadata": {
    "tags": []
   },
   "outputs": [
    {
     "output_type": "stream",
     "name": "stdout",
     "text": "Talet är positivt\n"
    }
   ],
   "source": [
    "\n",
    "tal = int(input(\"Ange ett tal:\"))\n",
    "\n",
    "if tal >=1:  \n",
    "    print(\"Talet är positivt\")\n",
    "if tal <=-1:\n",
    "    print(\"Talet är negativt\")   \n",
    "if tal== 0:\n",
    "    print(\"Talet är noll\")\n",
    "\n"
   ]
  },
  {
   "source": [
    "# Uppgift 2 \n",
    "- Skriv ett program som låter användaren mata ine tt tal och skriv ut om talet är jämnt, udda eller delbart med 5. "
   ],
   "cell_type": "markdown",
   "metadata": {}
  },
  {
   "cell_type": "code",
   "execution_count": 10,
   "metadata": {
    "tags": []
   },
   "outputs": [
    {
     "output_type": "stream",
     "name": "stdout",
     "text": "Talet är udda\nTalet är delbart med 5\n"
    }
   ],
   "source": [
    "tal = int(input(\"Ange ett tal:\"))\n",
    "\n",
    "if tal%2 == 0:\n",
    "    print(\"Talet är jämmt\")\n",
    "else: \n",
    "    print(\"Talet är udda\")\n",
    "\n",
    "if tal%5 == 0:\n",
    "    print(\"Talet är delbart med 5\")\n"
   ]
  },
  {
   "source": [
    "# Uppgift 3 \n",
    "- Skriv ett program som låter användaren mata in fyra tal och skriv därefter ut det största talet. \n"
   ],
   "cell_type": "markdown",
   "metadata": {}
  },
  {
   "cell_type": "code",
   "execution_count": null,
   "metadata": {},
   "outputs": [],
   "source": [
    "tal1= int(input(\"Ange det största tal\"))\n",
    "tal2= int(input(\"Ange andra tal\"))"
   ]
  },
  {
   "cell_type": "code",
   "execution_count": 28,
   "metadata": {
    "tags": []
   },
   "outputs": [
    {
     "output_type": "stream",
     "name": "stdout",
     "text": "9\n"
    }
   ],
   "source": [
    "# förlag 2 \n",
    "tal1 = int(input(\"Ange tal1\"))\n",
    "tal2 = int(input(\"Ange tal2\"))\n",
    "tal3 = int(input(\"Ange tal3\"))\n",
    "tal4 = int(input(\"Ange tal4\"))\n",
    "\n",
    "tal = [tal1,tal2,tal3,tal4]\n",
    "störst= max(tal) \n",
    "\n",
    "print(störst)\n",
    "\n"
   ]
  },
  {
   "source": [
    "# Uppgift 4 \n",
    "- Skriv ett program som låter användaren mata in en vinkel och skriv ut om vinkeln är: spetsig, rät, trubbig, rak, konvex eller hel vinkel.\n",
    "- spetsig: 0 >= v < 90 \n",
    "- rät: v=90\n",
    "- trubbig: 90 < v < 180 \n",
    "- rak: v=180\n",
    "- konvex: 180 > v < 360 \n",
    "- hel: v=360\n"
   ],
   "cell_type": "markdown",
   "metadata": {}
  },
  {
   "cell_type": "code",
   "execution_count": 4,
   "metadata": {
    "tags": []
   },
   "outputs": [
    {
     "output_type": "stream",
     "name": "stdout",
     "text": "hel vinkel\n"
    }
   ],
   "source": [
    "vinkel=float(input(\"Ange en vinkel v i grader, där 0 <= v <= 360:\"))\n",
    "\n",
    "if vinkel >= 0 and vinkel < 90:\n",
    "    print(\"spetsig vinkel\")\n",
    "if vinkel == 90:\n",
    "    print(\"rät vinkel\")\n",
    "if vinkel > 90 and vinkel < 180:\n",
    "    print(\"trubbig vinkel\")\n",
    "if vinkel ==180:\n",
    "    print(\"rak vinkel\")\n",
    "if vinkel > 180 and vinkel < 360:\n",
    "    print(\"konvex vinkel\")\n",
    "if vinkel ==360:\n",
    "    print(\"hel vinkel\")\n"
   ]
  },
  {
   "source": [
    "# Uppgift 5 \n",
    "- Skriv ett program som låter användaren mata in en radie och därefter beräknar cirkelns omkrets och area om radien är positiv. Om radien är negativ ska ett felmeddelande skrivas ut."
   ],
   "cell_type": "markdown",
   "metadata": {}
  },
  {
   "cell_type": "code",
   "execution_count": 18,
   "metadata": {},
   "outputs": [
    {
     "output_type": "error",
     "ename": "SyntaxError",
     "evalue": "invalid syntax (<ipython-input-18-2e96254f3bf4>, line 5)",
     "traceback": [
      "\u001b[1;36m  File \u001b[1;32m\"<ipython-input-18-2e96254f3bf4>\"\u001b[1;36m, line \u001b[1;32m5\u001b[0m\n\u001b[1;33m    if radie= 3,14 * radie * radie\u001b[0m\n\u001b[1;37m            ^\u001b[0m\n\u001b[1;31mSyntaxError\u001b[0m\u001b[1;31m:\u001b[0m invalid syntax\n"
     ]
    }
   ],
   "source": [
    "radie= float(input(\"Ange radie\"))\n",
    "area= 3,14 * radie**2 \n",
    "omkrets= 2 * 3,14 * radie \n",
    "\n"
   ]
  },
  {
   "cell_type": "code",
   "execution_count": null,
   "metadata": {},
   "outputs": [],
   "source": []
  }
 ]
}